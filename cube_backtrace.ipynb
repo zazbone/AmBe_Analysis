{
 "cells": [
  {
   "cell_type": "code",
   "execution_count": 1,
   "id": "cfae14d2",
   "metadata": {},
   "outputs": [],
   "source": [
    ".L src/transform.cpp"
   ]
  },
  {
   "cell_type": "code",
   "execution_count": 2,
   "id": "cc34cc6b",
   "metadata": {},
   "outputs": [],
   "source": [
    ".L src/load_dataset.cpp"
   ]
  },
  {
   "cell_type": "code",
   "execution_count": 3,
   "id": "b8d5aea2",
   "metadata": {},
   "outputs": [],
   "source": [
    ".L src/track_chain.cpp"
   ]
  },
  {
   "cell_type": "code",
   "execution_count": 4,
   "id": "56647693",
   "metadata": {},
   "outputs": [],
   "source": [
    ".L src/plot.cpp"
   ]
  },
  {
   "cell_type": "code",
   "execution_count": 5,
   "id": "d09fc515",
   "metadata": {},
   "outputs": [
    {
     "name": "stdout",
     "output_type": "stream",
     "text": [
      "Test results: 4.8884\n"
     ]
    }
   ],
   "source": [
    ".x test/track_chain.C"
   ]
  },
  {
   "cell_type": "code",
   "execution_count": 6,
   "id": "520aa0c0",
   "metadata": {},
   "outputs": [],
   "source": [
    "char const* path {\"dataset/AmBe_x1-y1_Run_99.root\"};\n",
    "DataSetHolder dataset = ambeDataSet(path);"
   ]
  },
  {
   "cell_type": "markdown",
   "id": "d35c6fce",
   "metadata": {},
   "source": [
    "# First event filter with T1"
   ]
  },
  {
   "cell_type": "code",
   "execution_count": 7,
   "id": "ad75b3f1",
   "metadata": {},
   "outputs": [
    {
     "name": "stdout",
     "output_type": "stream",
     "text": [
      "(const unsigned long long) 86297\n"
     ]
    }
   ],
   "source": [
    "auto eventsDf = filterT1Events(dataset.df, 0.01).Filter(\"is_event\");\n",
    "eventsDf.Count().GetValue()"
   ]
  },
  {
   "cell_type": "markdown",
   "id": "15e85ec3",
   "metadata": {},
   "source": [
    "# Chain calculation\n",
    "## Only full energy chain for now"
   ]
  },
  {
   "cell_type": "code",
   "execution_count": 8,
   "id": "be9aedc3",
   "metadata": {},
   "outputs": [],
   "source": [
    "auto dfTE= eventsDf.Define(\n",
    "    \"Egamma_chain\",\n",
    "    \"track_entry(&T9.pdg, &T9.trackid, &T9.parentid, &T9.initialEkin, &trackid, &edep_pvt)\"\n",
    ");"
   ]
  },
  {
   "cell_type": "code",
   "execution_count": 9,
   "id": "149a6767",
   "metadata": {},
   "outputs": [
    {
     "name": "stdout",
     "output_type": "stream",
     "text": [
      "+-----+------------------+--------+------------+------------+-------------+----------------+\n",
      "| Row | CreatorProcessID | T1.pdg | T9.pdg     | T9.trackid | T9.parentid | T9.initialEkin | \n",
      "+-----+------------------+--------+------------+------------+-------------+----------------+\n",
      "| 219 | 0                | 2112   | 22         | 2          | 0           | 4.4400000      | \n",
      "|     | 21               | 22     | 11         | 15         | 2           | 0.048734291    | \n",
      "|     | 22               |        | 11         | 14         | 2           | 0.0097737458   | \n",
      "|     | 22               |        | 11         | 13         | 2           | 0.011234431    | \n",
      "|     | 22               |        | 11         | 12         | 2           | 0.021777414    | \n",
      "|     | 22               |        | 11         | 11         | 2           | 0.0018299319   | \n",
      "|     | 22               |        | 11         | 10         | 2           | 0.032169729    | \n",
      "|     | 22               |        | 11         | 9          | 2           | 0.0075373021   | \n",
      "|     | 22               |        | 11         | 8          | 2           | 0.088703829    | \n",
      "|     | 22               |        | 11         | 7          | 2           | 0.12097464     | \n",
      "|     | 22               |        | 11         | 6          | 2           | 0.031520014    | \n",
      "|     | 22               |        | 11         | 5          | 2           | 1.0987926      | \n",
      "|     | 22               |        | 11         | 4          | 2           | 1.3707674      | \n",
      "|     | 10               |        | 11         | 16         | 4           | 0.22272866     | \n",
      "|     | 22               |        | 11         | 3          | 2           | 1.5958937      | \n",
      "|     | 0                |        | 2112       | 1          | 0           | 4.6506266      | \n",
      "|     | 3                |        | 1000020040 | 22         | 1           | 2.0549346      | \n",
      "|     | 3                |        | 1000010030 | 21         | 1           | 2.7262186      | \n",
      "|     | 42               |        | 2212       | 20         | 1           | 0.055575684    | \n",
      "|     | 42               |        | 2212       | 19         | 1           | 0.27205331     | \n",
      "|     | 42               |        | 2212       | 18         | 1           | 3.2279941      | \n",
      "|     | 42               |        | 1000060120 | 17         | 1           | 0.99742921     | \n",
      "+-----+------------------+--------+------------+------------+-------------+----------------+\n",
      "| 274 | 0                | 2112   | 22         | 2          | 0           | 4.4400000      | \n",
      "|     | 21               | 22     | 11         | 14         | 2           | 0.047056934    | \n",
      "|     | 22               |        | 11         | 13         | 2           | 0.00043404062  | \n",
      "|     | 22               |        | 11         | 12         | 2           | 0.0054506500   | \n",
      "|     | 22               |        | 11         | 11         | 2           | 0.013986413    | \n",
      "|     | 22               |        | 11         | 10         | 2           | 0.0095808888   | \n",
      "|     | 22               |        | 11         | 9          | 2           | 0.023052308    | \n",
      "|     | 22               |        | 11         | 8          | 2           | 0.0083597741   | \n",
      "|     | 22               |        | 11         | 7          | 2           | 0.062887757    | \n",
      "|     | 22               |        | 11         | 6          | 2           | 0.28038764     | \n",
      "|     | 22               |        | 11         | 5          | 2           | 0.086162549    | \n",
      "|     | 22               |        | 11         | 4          | 2           | 0.29759976     | \n",
      "|     | 22               |        | 11         | 3          | 2           | 3.6047503      | \n",
      "|     | 10               |        | 11         | 22         | 3           | 0.28812565     | \n",
      "|     | 10               |        | 11         | 21         | 3           | 0.099847532    | \n",
      "|     | 10               |        | 11         | 20         | 3           | 0.26655454     | \n",
      "|     | 10               |        | 11         | 19         | 3           | 0.50147501     | \n",
      "|     | 10               |        | 11         | 18         | 3           | 0.19934789     | \n",
      "|     | 11               |        | 22         | 17         | 3           | 0.11538558     | \n",
      "|     | 21               |        | 11         | 28         | 17          | 0.078919406    | \n",
      "|     | 22               |        | 11         | 27         | 17          | 0.0051494793   | \n",
      "|     | 22               |        | 11         | 26         | 17          | 0.0060996987   | \n",
      "|     | 22               |        | 11         | 25         | 17          | 0.013416577    | \n",
      "|     | 22               |        | 11         | 24         | 17          | 0.0036839618   | \n",
      "|     | 22               |        | 11         | 23         | 17          | 0.0078254420   | \n",
      "|     | 10               |        | 11         | 16         | 3           | 0.11265768     | \n",
      "|     | 10               |        | 11         | 15         | 3           | 0.088672475    | \n",
      "|     | 0                |        | 2112       | 1          | 0           | 4.1728749      | \n",
      "|     | 3                |        | 1000020040 | 36         | 1           | 2.0535240      | \n",
      "|     | 3                |        | 1000010030 | 35         | 1           | 2.7276347      | \n",
      "|     | 42               |        | 2212       | 34         | 1           | 0.083340949    | \n",
      "|     | 42               |        | 2212       | 33         | 1           | 0.15226084     | \n",
      "|     | 42               |        | 2212       | 32         | 1           | 1.5894560      | \n",
      "|     | 42               |        | 1000060120 | 31         | 1           | 0.73685065     | \n",
      "|     | 42               |        | 1000060120 | 30         | 1           | 0.39030029     | \n",
      "|     | 42               |        | 1000060120 | 29         | 1           | 1.1703941      | \n",
      "+-----+------------------+--------+------------+------------+-------------+----------------+\n",
      "| 581 | 0                | 2112   | 22         | 2          | 0           | 4.4400000      | \n",
      "|     | 21               | 22     | 11         | 12         | 2           | 0.050910293    | \n",
      "|     | 22               |        | 11         | 11         | 2           | 0.011329551    | \n",
      "|     | 22               |        | 11         | 10         | 2           | 0.0035472428   | \n",
      "|     | 22               |        | 11         | 9          | 2           | 0.010786558    | \n",
      "|     | 22               |        | 11         | 8          | 2           | 0.031805283    | \n",
      "|     | 22               |        | 11         | 7          | 2           | 0.014702528    | \n",
      "|     | 22               |        | 11         | 6          | 2           | 0.068774292    | \n",
      "|     | 22               |        | 11         | 5          | 2           | 0.28975654     | \n",
      "|     | 22               |        | 11         | 4          | 2           | 0.35870986     | \n",
      "|     | 22               |        | 11         | 3          | 2           | 3.5993868      | \n",
      "|     | 11               |        | 22         | 13         | 3           | 0.015367000    | \n",
      "|     | 21               |        | 11         | 14         | 13          | 0.015075990    | \n",
      "|     | 0                |        | 2112       | 1          | 0           | 3.4867753      | \n",
      "|     | 1                |        | 22         | 27         | 1           | 1.4895695      | \n",
      "|     | 21               |        | 11         | 57         | 27          | 0.068868540    | \n",
      "|     | 22               |        | 11         | 56         | 27          | 0.025421760    | \n",
      "|     | 22               |        | 11         | 54         | 27          | 0.12452093     | \n",
      "|     | 22               |        | 11         | 53         | 27          | 0.0030009576   | \n",
      "|     | 22               |        | 11         | 52         | 27          | 0.80129591     | \n",
      "|     | 22               |        | 11         | 51         | 27          | 0.17523059     | \n",
      "|     | 22               |        | 11         | 50         | 27          | 0.14490851     | \n",
      "|     | 12               |        | 22         | 69         | 67          | 0.51099891     | \n",
      "|     | 21               |        | 11         | 89         | 69          | 0.032611505    | \n",
      "|     | 22               |        | 11         | 88         | 69          | 0.0034602575   | \n",
      "|     | 22               |        | 11         | 87         | 69          | 0.0029091668   | \n",
      "|     | 22               |        | 11         | 86         | 69          | 0.00014548322  | \n",
      "|     | 22               |        | 11         | 85         | 69          | 0.00035157654  | \n",
      "|     | 22               |        | 11         | 84         | 69          | 0.0024575375   | \n",
      "|     | 22               |        | 11         | 83         | 69          | 0.0063949385   | \n",
      "|     | 22               |        | 11         | 82         | 69          | 0.0045373435   | \n",
      "|     | 22               |        | 11         | 81         | 69          | 0.0054275059   | \n",
      "|     | 22               |        | 11         | 80         | 69          | 0.013575106    | \n",
      "|     | 22               |        | 11         | 79         | 69          | 0.016150216    | \n",
      "|     | 22               |        | 11         | 78         | 69          | 0.016683909    | \n",
      "|     | 22               |        | 11         | 77         | 69          | 0.00032425798  | \n",
      "|     | 22               |        | 11         | 76         | 69          | 0.0066165995   | \n",
      "|     | 22               |        | 11         | 75         | 69          | 0.074713483    | \n",
      "|     | 22               |        | 11         | 74         | 69          | 0.030021274    | \n",
      "|     | 22               |        | 11         | 73         | 69          | 0.15578509     | \n",
      "|     | 22               |        | 11         | 72         | 69          | 0.054872755    | \n",
      "|     | 22               |        | 11         | 71         | 69          | 0.018400452    | \n",
      "|     | 42               |        | 2212       | 24         | 1           | 0.071599827    | \n",
      "|     | 42               |        | 2212       | 23         | 1           | 0.12487558     | \n",
      "|     | 42               |        | 2212       | 22         | 1           | 0.14542197     | \n",
      "|     | 42               |        | 2212       | 21         | 1           | 0.17103721     | \n",
      "|     | 42               |        | 1000060120 | 20         | 1           | 0.18195264     | \n",
      "|     | 42               |        | 2212       | 19         | 1           | 0.36467506     | \n",
      "|     | 42               |        | 1000060120 | 18         | 1           | 0.12607454     | \n",
      "|     | 42               |        | 2212       | 17         | 1           | 1.0913077      | \n",
      "|     | 42               |        | 1000060120 | 16         | 1           | 0.19537009     | \n",
      "|     | 42               |        | 1000060120 | 15         | 1           | 0.88617025     | \n",
      "+-----+------------------+--------+------------+------------+-------------+----------------+\n"
     ]
    }
   ],
   "source": [
    "dfTE.Filter(\"Egamma_chain == 4.44\").Display({\"CreatorProcessID\", \"T1.pdg\", \"T9.pdg\", \"T9.trackid\", \"T9.parentid\", \"T9.initialEkin\"}, 3, 50000)->Print()"
   ]
  },
  {
   "cell_type": "code",
   "execution_count": 10,
   "id": "042ba31d",
   "metadata": {},
   "outputs": [
    {
     "data": {
      "image/png": "[encoded data removed]",
      "text/plain": [
       "<IPython.core.display.Image object>"
      ]
     },
     "metadata": {},
     "output_type": "display_data"
    }
   ],
   "source": [
    "TCanvas c;\n",
    "// Change filter by true if you wanna see the 0 spike\n",
    "auto hist = dfTE.Filter(\"true\").Histo1D(\"Egamma_chain\")->DrawClone();\n",
    "c.Draw();"
   ]
  },
  {
   "cell_type": "code",
   "execution_count": 11,
   "id": "4b466824",
   "metadata": {},
   "outputs": [
    {
     "data": {
      "image/png": "[encoded data removed]",
      "text/plain": [
       "<IPython.core.display.Image object>"
      ]
     },
     "metadata": {},
     "output_type": "display_data"
    }
   ],
   "source": [
    "TCanvas c;\n",
    "// Change filter by true if you wanna see the 0 spike\n",
    "auto hist = dfTE.Filter(\"Egamma_chain\").Histo1D(\"Egamma_chain\")->DrawClone();\n",
    "c.Draw();"
   ]
  },
  {
   "cell_type": "markdown",
   "id": "77cb2054",
   "metadata": {},
   "source": [
    "We will probably need to filter those escaping gamma events\n",
    "\n",
    "For now they wont be an issue"
   ]
  },
  {
   "cell_type": "code",
   "execution_count": 12,
   "id": "e8079324",
   "metadata": {},
   "outputs": [
    {
     "name": "stderr",
     "output_type": "stream",
     "text": [
      "Info in <TCanvas::Print>: pdf file plots/pdf/E_gamma_chain_dist.pdf has been created\n",
      "Info in <TCanvas::Print>: ps file plots/pgf/E_gamma_chain_dist.pgf has been created\n",
      "Info in <TCanvas::Print>: png file plots/png/E_gamma_chain_dist.png has been created\n"
     ]
    }
   ],
   "source": [
    "savePlot(hist, \"E_gamma_chain_dist\");"
   ]
  },
  {
   "cell_type": "code",
   "execution_count": 13,
   "id": "aad94185",
   "metadata": {},
   "outputs": [
    {
     "name": "stdout",
     "output_type": "stream",
     "text": [
      "(const double) 4.4400000\n"
     ]
    }
   ],
   "source": [
    "// Ensure that we do not have gamma chain above 4.44 Mev\n",
    "dfTE.Max(\"Egamma_chain\").GetValue()"
   ]
  },
  {
   "cell_type": "markdown",
   "id": "98d34eec",
   "metadata": {},
   "source": [
    "# First order estimation of compton gamma energy chain\n",
    "Just taking the most energetic $e^-$ produced by the 4.44 MeV gamma"
   ]
  },
  {
   "cell_type": "code",
   "execution_count": 15,
   "id": "9c822c83",
   "metadata": {},
   "outputs": [],
   "source": [
    "auto dfCE = dfTE.Define(\n",
    "    \"ComptonEnergy\",\n",
    "    \"track_entry(&T9.pdg, &T9.trackid, &T9.parentid, &T9.initialEkin, &trackid, &edep_pvt, true)\"\n",
    ");"
   ]
  },
  {
   "cell_type": "code",
   "execution_count": 16,
   "id": "3161a5ad",
   "metadata": {},
   "outputs": [
    {
     "data": {
      "image/png": "[encoded data removed]",
      "text/plain": [
       "<IPython.core.display.Image object>"
      ]
     },
     "metadata": {},
     "output_type": "display_data"
    }
   ],
   "source": [
    "TCanvas c;\n",
    "// Change filter by true if you wanna see the 0 spike\n",
    "auto hist = dfCE.Filter(\"true\").Histo1D(\"ComptonEnergy\")->DrawClone();\n",
    "c.Draw();"
   ]
  },
  {
   "cell_type": "code",
   "execution_count": 17,
   "id": "23dc139f",
   "metadata": {},
   "outputs": [
    {
     "data": {
      "image/png": "[encoded data removed]",
      "text/plain": [
       "<IPython.core.display.Image object>"
      ]
     },
     "metadata": {},
     "output_type": "display_data"
    }
   ],
   "source": [
    "TCanvas c;\n",
    "// Change filter by true if you wanna see the 0 spike\n",
    "auto hist = dfCE.Filter(\"ComptonEnergy\").Histo1D(\"ComptonEnergy\")->DrawClone();\n",
    "c.Draw();"
   ]
  },
  {
   "cell_type": "code",
   "execution_count": 23,
   "id": "57285083",
   "metadata": {},
   "outputs": [
    {
     "name": "stderr",
     "output_type": "stream",
     "text": [
      "Info in <TCanvas::Print>: pdf file plots/pdf/ComptonEnergy_dist.pdf has been created\n",
      "Info in <TCanvas::Print>: ps file plots/pgf/ComptonEnergy_dist.pgf has been created\n",
      "Info in <TCanvas::Print>: png file plots/png/ComptonEnergy_dist.png has been created\n"
     ]
    }
   ],
   "source": [
    "savePlot(hist, \"ComptonEnergy_dist\");"
   ]
  },
  {
   "cell_type": "code",
   "execution_count": 18,
   "id": "f2aa3c30",
   "metadata": {},
   "outputs": [
    {
     "name": "stdout",
     "output_type": "stream",
     "text": [
      "(const double) 4.1983776\n"
     ]
    }
   ],
   "source": [
    "dfCE.Max(\"ComptonEnergy\").GetValue()"
   ]
  },
  {
   "cell_type": "markdown",
   "id": "08e326cb",
   "metadata": {},
   "source": [
    "# Total E - CE"
   ]
  },
  {
   "cell_type": "code",
   "execution_count": 19,
   "id": "7376b4e5",
   "metadata": {},
   "outputs": [],
   "source": [
    "auto dfTEmCE = dfCE.Define(\n",
    "    \"TEminusCE\",\n",
    "    \"Egamma_chain - ComptonEnergy\"\n",
    ");"
   ]
  },
  {
   "cell_type": "code",
   "execution_count": 21,
   "id": "20870eec",
   "metadata": {},
   "outputs": [
    {
     "data": {
      "image/png": "[encoded data removed]",
      "text/plain": [
       "<IPython.core.display.Image object>"
      ]
     },
     "metadata": {},
     "output_type": "display_data"
    }
   ],
   "source": [
    "TCanvas c;\n",
    "auto hist = dfTEmCE.Filter(\"true\").Histo1D(\"TEminusCE\")->DrawClone();\n",
    "c.Draw();"
   ]
  },
  {
   "cell_type": "code",
   "execution_count": 22,
   "id": "bcb07f2a",
   "metadata": {},
   "outputs": [
    {
     "data": {
      "image/png": "[encoded data removed]",
      "text/plain": [
       "<IPython.core.display.Image object>"
      ]
     },
     "metadata": {},
     "output_type": "display_data"
    }
   ],
   "source": [
    "TCanvas c;\n",
    "auto hist = dfTEmCE.Filter(\"TEminusCE\").Histo1D(\"TEminusCE\")->DrawClone();\n",
    "c.Draw();"
   ]
  },
  {
   "cell_type": "code",
   "execution_count": null,
   "id": "08e1e9d1",
   "metadata": {},
   "outputs": [],
   "source": [
    "savePlot(hist, \"TEminusCE_dist\");"
   ]
  }
 ],
 "metadata": {
  "kernelspec": {
   "display_name": "ROOT C++",
   "language": "c++",
   "name": "root"
  },
  "language_info": {
   "codemirror_mode": "text/x-c++src",
   "file_extension": ".C",
   "mimetype": " text/x-c++src",
   "name": "c++"
  }
 },
 "nbformat": 4,
 "nbformat_minor": 5
}
