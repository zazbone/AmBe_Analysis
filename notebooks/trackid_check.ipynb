{
 "cells": [
  {
   "cell_type": "markdown",
   "id": "3f29acea",
   "metadata": {},
   "source": [
    "Ensure that there are not multiple same trackid in a row for T9"
   ]
  },
  {
   "cell_type": "code",
   "execution_count": 1,
   "id": "b68ff8d8",
   "metadata": {},
   "outputs": [],
   "source": [
    ".L ../libAmBe.so"
   ]
  },
  {
   "cell_type": "code",
   "execution_count": 2,
   "id": "a96de04a",
   "metadata": {},
   "outputs": [
    {
     "name": "stdout",
     "output_type": "stream",
     "text": [
      "(const int) 11\n"
     ]
    }
   ],
   "source": [
    "test // Ensure the the dll load correctly"
   ]
  },
  {
   "cell_type": "code",
   "execution_count": 3,
   "id": "5e36bcc6",
   "metadata": {},
   "outputs": [],
   "source": [
    "char const* path {\"../dataset/test_ambe3.root\"};\n",
    "DataSetHolder dataset = ambeDataSet(path);"
   ]
  },
  {
   "cell_type": "code",
   "execution_count": 4,
   "id": "509f00c1",
   "metadata": {},
   "outputs": [],
   "source": [
    "auto df2 = dataset.df.Define(\"_no_dup\", \"RVecToSet(T9.trackid).size() == T9.trackid.size()\");"
   ]
  },
  {
   "cell_type": "code",
   "execution_count": 5,
   "id": "1ead2425",
   "metadata": {},
   "outputs": [
    {
     "name": "stdout",
     "output_type": "stream",
     "text": [
      "(const unsigned long long) 0\n"
     ]
    }
   ],
   "source": [
    "df2.Filter(\"! _no_dup\").Count().GetValue()"
   ]
  },
  {
   "cell_type": "code",
   "execution_count": 6,
   "id": "54ebe500",
   "metadata": {},
   "outputs": [],
   "source": [
    "// Ok perfect"
   ]
  }
 ],
 "metadata": {
  "kernelspec": {
   "display_name": "ROOT C++",
   "language": "c++",
   "name": "root"
  },
  "language_info": {
   "codemirror_mode": "text/x-c++src",
   "file_extension": ".C",
   "mimetype": " text/x-c++src",
   "name": "c++"
  }
 },
 "nbformat": 4,
 "nbformat_minor": 5
}
