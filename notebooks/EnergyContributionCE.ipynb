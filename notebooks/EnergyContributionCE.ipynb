{
 "cells": [
  {
   "cell_type": "code",
   "execution_count": 1,
   "id": "1b612748",
   "metadata": {},
   "outputs": [],
   "source": [
    ".L ../libAmBe.so"
   ]
  },
  {
   "cell_type": "code",
   "execution_count": 2,
   "id": "b4498e53",
   "metadata": {},
   "outputs": [
    {
     "name": "stdout",
     "output_type": "stream",
     "text": [
      "(const int) 11\n"
     ]
    }
   ],
   "source": [
    "test // Check if lib is loaded correcly"
   ]
  },
  {
   "cell_type": "code",
   "execution_count": 3,
   "id": "d2a0850d",
   "metadata": {},
   "outputs": [],
   "source": [
    "char const* path {\"../dataset/ambe2022.root\"};\n",
    "DataSetHolder dataset = ambeDataSet(path);"
   ]
  },
  {
   "cell_type": "code",
   "execution_count": 4,
   "id": "4de1b893",
   "metadata": {},
   "outputs": [],
   "source": [
    "ROOT::RDF::RNode df = filterT1Events(dataset.df, 10e-6)\n",
    "    .Filter(\"is_event\", \"T1 Filter\");"
   ]
  },
  {
   "cell_type": "code",
   "execution_count": 5,
   "id": "36943862",
   "metadata": {},
   "outputs": [],
   "source": [
    "df = df.Define(\"chainMaskT9\", \"decayChainMask(T9.parentid, T9.trackid, T9.pdg, T9.CreatorProcessID, T9.initialEkin)\");\n",
    "df = createT5Mask(df);\n",
    "df = df.Redefine(\n",
    "    \"chainMaskT5\",\n",
    "    \"ROOT::VecOps::Where(chainMaskT5==maskNOISE && (pdg == 1000020040 || pdg == 1000010030), ROOT::RVec (chainMaskT5.size(), -1), chainMaskT5)\"\n",
    ");"
   ]
  },
  {
   "cell_type": "code",
   "execution_count": 6,
   "id": "74f5a2e8",
   "metadata": {},
   "outputs": [],
   "source": [
    "df = df.Filter(\"ROOT::VecOps::Any(chainMaskT5 == maskCE_ELECT)\", \"CE reach pvt\");"
   ]
  },
  {
   "cell_type": "code",
   "execution_count": 7,
   "id": "01ad99aa",
   "metadata": {},
   "outputs": [],
   "source": [
    "df = df.Filter(\"ROOT::VecOps::Any(T9.initialEkin[chainMaskT9 == maskCE_ELECT] > 3.7)\", \"CE produced with Ekin > 4\");"
   ]
  },
  {
   "cell_type": "code",
   "execution_count": 8,
   "id": "3dc9f131",
   "metadata": {},
   "outputs": [],
   "source": [
    "ROOT::RDF::RNode df2 = df.Define(\n",
    "    \"volidCE\",\n",
    "    \"volidEpvtTot(volid[chainMaskT5 == maskCE_ELECT || chainMaskT5 == maskCE_CHILD], E_quenched[chainMaskT5 == maskCE_ELECT || chainMaskT5 == maskCE_CHILD])\"\n",
    ");\n",
    "df2 = df2.Define(\"edep_pvtCE\", \"std::get<1>(volidCE)\");\n",
    "df2 = df2.Redefine(\"volidCE\", \"std::get<0>(volidCE)\");"
   ]
  },
  {
   "cell_type": "code",
   "execution_count": 9,
   "id": "71f86a5e",
   "metadata": {},
   "outputs": [],
   "source": [
    "df2 = df2.Filter(\"ROOT::VecOps::Sum(edep_pvtCE > 0.1) == 1\", \"1 cube CE\");"
   ]
  },
  {
   "cell_type": "code",
   "execution_count": 10,
   "id": "312fe722",
   "metadata": {},
   "outputs": [],
   "source": [
    "ROOT::RDF::RNode df3 = df2.Redefine(\"volidCE\", \"volidCE[edep_pvtCE > 0.1][0]\")\n",
    "    .Redefine(\"edep_pvtCE\", \"edep_pvtCE[edep_pvtCE > 0.1][0]\");"
   ]
  },
  {
   "cell_type": "code",
   "execution_count": 11,
   "id": "b9fd7fa1",
   "metadata": {},
   "outputs": [],
   "source": [
    "df3 = df3.Define(\"NoiseContrib\", \"ROOT::VecOps::Sum(E_quenched[volidCE == volid && !(chainMaskT5 == maskCE_ELECT || chainMaskT5 == maskCE_CHILD)])\");"
   ]
  },
  {
   "cell_type": "code",
   "execution_count": 12,
   "id": "1e7e3772",
   "metadata": {},
   "outputs": [],
   "source": [
    "df3.Filter(\"NoiseContrib\").Display({\"T5mask\", \"volid\", \"E_quenched\", \"volidCE\", \"edep_pvtCE\", \"NoiseContrib\"}, 50, 50)->Print()"
   ]
  },
  {
   "cell_type": "code",
   "execution_count": 13,
   "id": "8bf1ae32",
   "metadata": {},
   "outputs": [
    {
     "name": "stdout",
     "output_type": "stream",
     "text": [
      "(double) 0.99161342\n"
     ]
    }
   ],
   "source": [
    "df3.Mean(\"edep_pvtCE\").GetValue() / (df3.Mean(\"edep_pvtCE\").GetValue() + df3.Mean(\"NoiseContrib\").GetValue())"
   ]
  },
  {
   "cell_type": "code",
   "execution_count": 14,
   "id": "297b212d",
   "metadata": {},
   "outputs": [],
   "source": [
    "df3 = df3.Define(\"frac\", \"edep_pvtCE / (edep_pvtCE + NoiseContrib)\");"
   ]
  },
  {
   "cell_type": "code",
   "execution_count": 15,
   "id": "1e872d68",
   "metadata": {},
   "outputs": [
    {
     "data": {
      "image/png": "[encoded data removed]",
      "text/plain": [
       "<IPython.core.display.Image object>"
      ]
     },
     "metadata": {},
     "output_type": "display_data"
    }
   ],
   "source": [
    "TCanvas c;\n",
    "auto h = df3.Histo1D( \"frac\")->DrawClone();\n",
    "c.Draw();"
   ]
  },
  {
   "cell_type": "code",
   "execution_count": null,
   "id": "2a7c889b",
   "metadata": {},
   "outputs": [],
   "source": []
  }
 ],
 "metadata": {
  "kernelspec": {
   "display_name": "ROOT C++",
   "language": "c++",
   "name": "root"
  },
  "language_info": {
   "codemirror_mode": "text/x-c++src",
   "file_extension": ".C",
   "mimetype": " text/x-c++src",
   "name": "c++"
  }
 },
 "nbformat": 4,
 "nbformat_minor": 5
}
