{
 "cells": [
  {
   "cell_type": "code",
   "execution_count": 1,
   "id": "57cf2e00",
   "metadata": {},
   "outputs": [],
   "source": [
    ".L ../libAmBe.so"
   ]
  },
  {
   "cell_type": "code",
   "execution_count": 2,
   "id": "4a128bf7",
   "metadata": {},
   "outputs": [
    {
     "name": "stdout",
     "output_type": "stream",
     "text": [
      "(const int) 11\n"
     ]
    }
   ],
   "source": [
    "test"
   ]
  },
  {
   "cell_type": "code",
   "execution_count": 3,
   "id": "019a2942",
   "metadata": {},
   "outputs": [],
   "source": [
    "char const* path {\"../dataset/ambe2022.root\"};\n",
    "DataSetHolder dataset = ambeDataSet(path);"
   ]
  },
  {
   "cell_type": "code",
   "execution_count": 4,
   "id": "32f2472e",
   "metadata": {},
   "outputs": [],
   "source": [
    "double All = dataset.df.Count().GetValue();"
   ]
  },
  {
   "cell_type": "code",
   "execution_count": 5,
   "id": "ecbab68f",
   "metadata": {},
   "outputs": [],
   "source": [
    "ROOT::RDF::RNode df = filterT1Events(dataset.df, 10e-6).Filter(\"!is_event\", \"not T1 Filter\");"
   ]
  },
  {
   "cell_type": "code",
   "execution_count": 6,
   "id": "e1825213",
   "metadata": {},
   "outputs": [],
   "source": [
    "double NotT1 = df.Count().GetValue();\n",
    "double T1 = All - NotT1;"
   ]
  },
  {
   "cell_type": "code",
   "execution_count": 29,
   "id": "7388fb3b",
   "metadata": {},
   "outputs": [
    {
     "name": "stdout",
     "output_type": "stream",
     "text": [
      "(double) 196437.00\n"
     ]
    }
   ],
   "source": [
    "All"
   ]
  },
  {
   "cell_type": "code",
   "execution_count": 30,
   "id": "bedba511",
   "metadata": {},
   "outputs": [
    {
     "name": "stdout",
     "output_type": "stream",
     "text": [
      "(double) 77376.000\n"
     ]
    }
   ],
   "source": [
    "NotT1"
   ]
  },
  {
   "cell_type": "code",
   "execution_count": 7,
   "id": "6048663f",
   "metadata": {},
   "outputs": [
    {
     "name": "stdout",
     "output_type": "stream",
     "text": [
      "(double) 39.389728\n"
     ]
    }
   ],
   "source": [
    "NotT1 / All * 100"
   ]
  },
  {
   "cell_type": "code",
   "execution_count": 8,
   "id": "71257bdc",
   "metadata": {},
   "outputs": [
    {
     "name": "stdout",
     "output_type": "stream",
     "text": [
      "(double) 60.610272\n"
     ]
    }
   ],
   "source": [
    "T1 / All * 100"
   ]
  },
  {
   "cell_type": "code",
   "execution_count": 9,
   "id": "55d7ec71",
   "metadata": {},
   "outputs": [],
   "source": [
    "ROOT::RDF::RNode df2 = df.Define(\"volidNoise\", \"volidEpvtTot(volid, E_quenched)\");\n",
    "df2 = df2.Define(\"edep_pvtNoise\", \"std::get<1>(volidNoise)\");\n",
    "df2 = df2.Redefine(\"volidNoise\", \"std::get<0>(volidNoise)\");"
   ]
  },
  {
   "cell_type": "code",
   "execution_count": 10,
   "id": "b825aebe",
   "metadata": {},
   "outputs": [],
   "source": [
    "df2 = df2.Filter(\"ROOT::VecOps::Sum(edep_pvtNoise < 4.2 && edep_pvtNoise > 0.1) == 2\", \"only 2 cube\");"
   ]
  },
  {
   "cell_type": "code",
   "execution_count": 11,
   "id": "7be18e3c",
   "metadata": {},
   "outputs": [],
   "source": [
    "double Elimits = df2.Count().GetValue();"
   ]
  },
  {
   "cell_type": "code",
   "execution_count": 12,
   "id": "697eb3ac",
   "metadata": {},
   "outputs": [
    {
     "name": "stdout",
     "output_type": "stream",
     "text": [
      "(double) 8.9153265\n"
     ]
    }
   ],
   "source": [
    "Elimits / All * 100"
   ]
  },
  {
   "cell_type": "code",
   "execution_count": 13,
   "id": "6992d740",
   "metadata": {},
   "outputs": [
    {
     "name": "stdout",
     "output_type": "stream",
     "text": [
      "(double) 22.633633\n"
     ]
    }
   ],
   "source": [
    "Elimits / NotT1 * 100"
   ]
  },
  {
   "cell_type": "code",
   "execution_count": 14,
   "id": "cf6ad3ba",
   "metadata": {},
   "outputs": [
    {
     "name": "stdout",
     "output_type": "stream",
     "text": [
      "(double) 14.709267\n"
     ]
    }
   ],
   "source": [
    "Elimits / T1 * 100"
   ]
  },
  {
   "cell_type": "code",
   "execution_count": 15,
   "id": "4e3f6cbe",
   "metadata": {},
   "outputs": [],
   "source": [
    "ROOT::RDF::RNode df3 = df2.Redefine(\"volidNoise\", \"volidNoise[edep_pvtNoise < 4.2 && edep_pvtNoise > 0.1]\");\n",
    "df3 = df2.Redefine(\"edep_pvtNoise\", \"edep_pvtNoise[edep_pvtNoise < 4.2 && edep_pvtNoise > 0.1]\");"
   ]
  },
  {
   "cell_type": "code",
   "execution_count": 16,
   "id": "70b209cd",
   "metadata": {},
   "outputs": [],
   "source": [
    "df3 = df3.Define(\"dx\", \"getCubeX(volidNoise[0]) - getCubeX(volidNoise[1])\");\n",
    "df3 = df3.Define(\"dy\", \"getCubeY(volidNoise[0]) - getCubeY(volidNoise[1])\");\n",
    "df3 = df3.Define(\"dz\", \"getCubeZ(volidNoise[0]) - getCubeZ(volidNoise[1])\");"
   ]
  },
  {
   "cell_type": "code",
   "execution_count": 17,
   "id": "4d259acc",
   "metadata": {},
   "outputs": [],
   "source": [
    "df3 = df3.Define(\"distance\", \"std::sqrt(dx * dx + dy * dy + dz * dz)\");"
   ]
  },
  {
   "cell_type": "code",
   "execution_count": 18,
   "id": "4c0ace50",
   "metadata": {},
   "outputs": [],
   "source": [
    "df3 = df3.Filter(\"distance >= 1.\", \"distance >= 1\");"
   ]
  },
  {
   "cell_type": "code",
   "execution_count": 19,
   "id": "460372fe",
   "metadata": {},
   "outputs": [],
   "source": [
    "double NoZeroDist = df3.Count().GetValue();"
   ]
  },
  {
   "cell_type": "code",
   "execution_count": 20,
   "id": "0b16952c",
   "metadata": {},
   "outputs": [
    {
     "name": "stdout",
     "output_type": "stream",
     "text": [
      "(double) 8.6068307\n"
     ]
    }
   ],
   "source": [
    "NoZeroDist / All * 100"
   ]
  },
  {
   "cell_type": "code",
   "execution_count": 21,
   "id": "d70b9d1e",
   "metadata": {},
   "outputs": [
    {
     "name": "stdout",
     "output_type": "stream",
     "text": [
      "(double) 21.850445\n"
     ]
    }
   ],
   "source": [
    "NoZeroDist / NotT1 * 100"
   ]
  },
  {
   "cell_type": "code",
   "execution_count": 22,
   "id": "68f5b959",
   "metadata": {},
   "outputs": [
    {
     "name": "stdout",
     "output_type": "stream",
     "text": [
      "(double) 14.200284\n"
     ]
    }
   ],
   "source": [
    "NoZeroDist / T1 * 100"
   ]
  },
  {
   "cell_type": "code",
   "execution_count": 23,
   "id": "1ff90d35",
   "metadata": {},
   "outputs": [],
   "source": [
    "ROOT::RDF::RNode df4 = df3.Define(\"DeltaE\", \"std::abs(edep_pvtNoise[0] - edep_pvtNoise[1])\");"
   ]
  },
  {
   "cell_type": "code",
   "execution_count": 24,
   "id": "3cec8198",
   "metadata": {},
   "outputs": [],
   "source": [
    "df4 = df4.Filter(\"DeltaE > 3.7\", \"1 ~4.2 && 1 ~0.2\");"
   ]
  },
  {
   "cell_type": "code",
   "execution_count": 25,
   "id": "634a3834",
   "metadata": {},
   "outputs": [],
   "source": [
    "double GoodDeltaE = df4.Count().GetValue();"
   ]
  },
  {
   "cell_type": "code",
   "execution_count": 31,
   "id": "ca8ad7e0",
   "metadata": {},
   "outputs": [
    {
     "name": "stdout",
     "output_type": "stream",
     "text": [
      "(double) 201.00000\n"
     ]
    }
   ],
   "source": [
    "GoodDeltaE"
   ]
  },
  {
   "cell_type": "code",
   "execution_count": 26,
   "id": "8dad5c46",
   "metadata": {},
   "outputs": [
    {
     "name": "stdout",
     "output_type": "stream",
     "text": [
      "(double) 0.10232288\n"
     ]
    }
   ],
   "source": [
    "GoodDeltaE / All * 100"
   ]
  },
  {
   "cell_type": "code",
   "execution_count": 27,
   "id": "caa64b9d",
   "metadata": {},
   "outputs": [
    {
     "name": "stdout",
     "output_type": "stream",
     "text": [
      "(double) 0.25977047\n"
     ]
    }
   ],
   "source": [
    "GoodDeltaE / NotT1 * 100"
   ]
  },
  {
   "cell_type": "code",
   "execution_count": 28,
   "id": "318db0bc",
   "metadata": {},
   "outputs": [
    {
     "name": "stdout",
     "output_type": "stream",
     "text": [
      "(double) 0.16882102\n"
     ]
    }
   ],
   "source": [
    "GoodDeltaE / T1 * 100"
   ]
  },
  {
   "cell_type": "code",
   "execution_count": null,
   "id": "b03aa8b7",
   "metadata": {},
   "outputs": [],
   "source": []
  }
 ],
 "metadata": {
  "kernelspec": {
   "display_name": "ROOT C++",
   "language": "c++",
   "name": "root"
  },
  "language_info": {
   "codemirror_mode": "text/x-c++src",
   "file_extension": ".C",
   "mimetype": " text/x-c++src",
   "name": "c++"
  }
 },
 "nbformat": 4,
 "nbformat_minor": 5
}
