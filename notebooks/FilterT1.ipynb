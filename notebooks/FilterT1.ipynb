{
 "cells": [
  {
   "cell_type": "code",
   "execution_count": 1,
   "id": "7e5cab83",
   "metadata": {},
   "outputs": [],
   "source": [
    ".L ../libAmBe.so"
   ]
  },
  {
   "cell_type": "code",
   "execution_count": 2,
   "id": "364c4d18",
   "metadata": {},
   "outputs": [
    {
     "name": "stdout",
     "output_type": "stream",
     "text": [
      "(const int) 11\n"
     ]
    }
   ],
   "source": [
    "test // Test if lib loaded coorectly"
   ]
  },
  {
   "cell_type": "code",
   "execution_count": 3,
   "id": "6fd375bd",
   "metadata": {},
   "outputs": [],
   "source": [
    "char const* path {\"../dataset/AmBe_x1-y1_Run_99.root\"};\n",
    "DataSetHolder dataset = ambeDataSet(path);"
   ]
  },
  {
   "cell_type": "code",
   "execution_count": 4,
   "id": "00b368d2",
   "metadata": {},
   "outputs": [],
   "source": [
    "auto df = dataset.df;"
   ]
  },
  {
   "cell_type": "code",
   "execution_count": 5,
   "id": "11884cb3",
   "metadata": {},
   "outputs": [],
   "source": [
    "auto df2 = filterT1Events(df, 0.001);"
   ]
  },
  {
   "cell_type": "code",
   "execution_count": 6,
   "id": "82679e08",
   "metadata": {},
   "outputs": [
    {
     "name": "stdout",
     "output_type": "stream",
     "text": [
      "+-----+-------------+----------+--------+-----------+\n",
      "| Row | gamma_event | is_event | T1.pdg | T1.energy | \n",
      "+-----+-------------+----------+--------+-----------+\n",
      "| 0   | 0           | true     | 2112   | 6.9870362 | \n",
      "|     | 1           |          | 22     | 4.4400000 | \n",
      "+-----+-------------+----------+--------+-----------+\n",
      "| 1   | 0           | true     | 2112   | 2.6446574 | \n",
      "|     | 1           |          | 22     | 4.4400000 | \n",
      "+-----+-------------+----------+--------+-----------+\n",
      "| 2   | 0           | true     | 2112   | 3.0270549 | \n",
      "|     | 1           |          | 22     | 4.4400000 | \n",
      "+-----+-------------+----------+--------+-----------+\n",
      "| 3   | 0           | true     | 2112   | 5.5570296 | \n",
      "|     | 1           |          | 22     | 4.4400000 | \n",
      "+-----+-------------+----------+--------+-----------+\n",
      "| 4   | 0           | false    | 2112   | 1.1184309 | \n",
      "+-----+-------------+----------+--------+-----------+\n"
     ]
    }
   ],
   "source": [
    "df2.Display({\"gamma_event\", \"is_event\", \"T1.pdg\", \"T1.energy\"})->Print();"
   ]
  },
  {
   "cell_type": "code",
   "execution_count": 7,
   "id": "f51d350f",
   "metadata": {},
   "outputs": [],
   "source": [
    "// Apply filter on df to keep only those vith gamma event\n",
    "auto df_filtered = df2.Filter(\"is_event\");"
   ]
  },
  {
   "cell_type": "code",
   "execution_count": 8,
   "id": "f171c2b3",
   "metadata": {},
   "outputs": [
    {
     "name": "stdout",
     "output_type": "stream",
     "text": [
      "Number of row with gamma 4.44 event: 86297\n",
      "Total number of row (number of event): 139586\n",
      "Ratio: 0.618235   Pourcentage of event with gamma: 61.8235\n"
     ]
    }
   ],
   "source": [
    "// Some statistical consideration\n",
    "double countEvent = (double) df_filtered.Count().GetValue();\n",
    "double countTotal = (double) df2.Count().GetValue();\n",
    "double ratio = countEvent / countTotal;\n",
    "std::cout << \"Number of row with gamma 4.44 event: \" << countEvent << std::endl;\n",
    "std::cout << \"Total number of row (number of event): \" << countTotal << std::endl;\n",
    "std::cout << \"Ratio: \" << ratio << \"   Pourcentage of event with gamma: \" << ratio * 100. << std::endl;"
   ]
  },
  {
   "cell_type": "markdown",
   "id": "43ef25ba",
   "metadata": {},
   "source": [
    "Ploting the gamma energy distribution in order to check that its realy correspond to a Dirac distribution at 4.44 MeV"
   ]
  },
  {
   "cell_type": "code",
   "execution_count": 9,
   "id": "4abcb9d2",
   "metadata": {},
   "outputs": [
    {
     "data": {
      "image/png": "[encoded data removed]",
      "text/plain": [
       "<IPython.core.display.Image object>"
      ]
     },
     "metadata": {},
     "output_type": "display_data"
    }
   ],
   "source": [
    "TCanvas c;\n",
    "auto hist = df_filtered.Define(\"Gamma_energy\", \"T1.energy[gamma_event ]\")\n",
    "    .Histo1D({\"gamma energy distribution\", \"Gamme energy distribution\", 50000, 4.43, 4.45}, \"Gamma_energy\")\n",
    "    ->DrawClone();\n",
    "c.Draw();"
   ]
  },
  {
   "cell_type": "code",
   "execution_count": 11,
   "id": "2a2cdc06",
   "metadata": {},
   "outputs": [
    {
     "name": "stderr",
     "output_type": "stream",
     "text": [
      "Info in <TCanvas::Print>: pdf file ../plots/pdf/init_gamma_Edist.pdf has been created\n",
      "Info in <TCanvas::Print>: ps file ../plots/pgf/init_gamma_Edist.pgf has been created\n",
      "Info in <TCanvas::Print>: png file ../plots/png/init_gamma_Edist.png has been created\n"
     ]
    }
   ],
   "source": [
    "std::string dir {\"../plots\"};\n",
    "std::string file {\"init_gamma_Edist\"};\n",
    "savePlot(hist, dir, file);"
   ]
  },
  {
   "cell_type": "code",
   "execution_count": null,
   "id": "165fcfcb",
   "metadata": {},
   "outputs": [],
   "source": []
  }
 ],
 "metadata": {
  "kernelspec": {
   "display_name": "ROOT C++",
   "language": "c++",
   "name": "root"
  },
  "language_info": {
   "codemirror_mode": "text/x-c++src",
   "file_extension": ".C",
   "mimetype": " text/x-c++src",
   "name": "c++"
  }
 },
 "nbformat": 4,
 "nbformat_minor": 5
}
