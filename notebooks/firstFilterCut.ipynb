{
 "cells": [
  {
   "cell_type": "code",
   "execution_count": 1,
   "id": "a6295ca3",
   "metadata": {},
   "outputs": [],
   "source": [
    ".L ../libAmBe.so"
   ]
  },
  {
   "cell_type": "code",
   "execution_count": 2,
   "id": "469b8cc3",
   "metadata": {},
   "outputs": [
    {
     "name": "stdout",
     "output_type": "stream",
     "text": [
      "(const int) 11\n"
     ]
    }
   ],
   "source": [
    "test // Check if lib is loaded correcly"
   ]
  },
  {
   "cell_type": "code",
   "execution_count": 3,
   "id": "7fe1407e",
   "metadata": {},
   "outputs": [],
   "source": [
    "char const* path {\"../dataset/AmBe_x1-y1_Run_99.root\"};\n",
    "DataSetHolder dataset = ambeDataSet(path);"
   ]
  },
  {
   "cell_type": "code",
   "execution_count": 4,
   "id": "b69fa7a8",
   "metadata": {},
   "outputs": [
    {
     "name": "stdout",
     "output_type": "stream",
     "text": [
      "(double) 139586.00\n"
     ]
    }
   ],
   "source": [
    "double totalEvent = dataset.df.Count().GetValue();\n",
    "totalEvent"
   ]
  },
  {
   "cell_type": "code",
   "execution_count": 5,
   "id": "c650465b",
   "metadata": {},
   "outputs": [],
   "source": [
    "ROOT::RDF::RNode df = filterT1Events(dataset.df, 10e-6).Filter(\"is_event\", \"T1 Filter\");"
   ]
  },
  {
   "cell_type": "markdown",
   "id": "93176986",
   "metadata": {},
   "source": [
    "# First cut\n",
    "4.44 gamma event created"
   ]
  },
  {
   "cell_type": "code",
   "execution_count": 6,
   "id": "c3f30da5",
   "metadata": {},
   "outputs": [
    {
     "name": "stdout",
     "output_type": "stream",
     "text": [
      "(double) 86297.000\n"
     ]
    }
   ],
   "source": [
    "double T1Event = df.Count().GetValue();\n",
    "T1Event"
   ]
  },
  {
   "cell_type": "code",
   "execution_count": 7,
   "id": "58de3b3e",
   "metadata": {},
   "outputs": [
    {
     "name": "stdout",
     "output_type": "stream",
     "text": [
      "(double) 61.823535\n"
     ]
    }
   ],
   "source": [
    " T1Event * 100. / totalEvent"
   ]
  },
  {
   "cell_type": "markdown",
   "id": "a92bec54",
   "metadata": {},
   "source": [
    "# Second cut\n",
    "Gamma 4.44 reach detector && CE e^- above 4 MeV reach the detector"
   ]
  },
  {
   "cell_type": "code",
   "execution_count": 8,
   "id": "27066dec",
   "metadata": {},
   "outputs": [],
   "source": [
    "ROOT::RDF::RNode df2 = df.Define(\"chainMaskT9\", \"decayChainMask(T9.parentid, T9.trackid, T9.pdg, T9.CreatorProcessID, T9.initialEkin)\");\n",
    "df2 = createT5Mask(df2);"
   ]
  },
  {
   "cell_type": "code",
   "execution_count": 9,
   "id": "e57d92f2",
   "metadata": {},
   "outputs": [],
   "source": [
    "df2 = df2.Filter(\"ROOT::VecOps::Any(chainMaskT5 == maskGAMMA)\", \"Gamma reach pvt\")\n",
    "    .Filter(\"ROOT::VecOps::Any(chainMaskT5 == maskCE_ELECT)\", \"CE reach pvt\");"
   ]
  },
  {
   "cell_type": "code",
   "execution_count": 10,
   "id": "1a4dc4bf",
   "metadata": {},
   "outputs": [
    {
     "name": "stdout",
     "output_type": "stream",
     "text": [
      "(double) 18797.000\n"
     ]
    }
   ],
   "source": [
    "double T5Event = df2.Count().GetValue();\n",
    "T5Event"
   ]
  },
  {
   "cell_type": "code",
   "execution_count": 11,
   "id": "b0d306d6",
   "metadata": {},
   "outputs": [
    {
     "name": "stdout",
     "output_type": "stream",
     "text": [
      "(double) 13.466250\n"
     ]
    }
   ],
   "source": [
    " T5Event * 100. / totalEvent"
   ]
  },
  {
   "cell_type": "code",
   "execution_count": 12,
   "id": "a77eb574",
   "metadata": {},
   "outputs": [],
   "source": [
    "df2 = df2.Filter(\"ROOT::VecOps::Any(T9.initialEkin[chainMaskT9 == maskCE_ELECT] > 4)\", \"CE produced with Ekin > 4\");"
   ]
  },
  {
   "cell_type": "code",
   "execution_count": 13,
   "id": "c943759c",
   "metadata": {},
   "outputs": [
    {
     "name": "stdout",
     "output_type": "stream",
     "text": [
      "(double) 4595.0000\n"
     ]
    }
   ],
   "source": [
    "double T5Event = df2.Count().GetValue();\n",
    "T5Event"
   ]
  },
  {
   "cell_type": "code",
   "execution_count": 14,
   "id": "46d06b39",
   "metadata": {},
   "outputs": [
    {
     "name": "stdout",
     "output_type": "stream",
     "text": [
      "(double) 3.2918774\n"
     ]
    }
   ],
   "source": [
    " T5Event * 100. / totalEvent"
   ]
  },
  {
   "cell_type": "markdown",
   "id": "228d3715",
   "metadata": {},
   "source": [
    "# Third and fourth cut\n",
    "Gamma event inside only one cube && CE event inside only one cube\n",
    "\n",
    "For a given Gap"
   ]
  },
  {
   "cell_type": "code",
   "execution_count": 15,
   "id": "79eafef2",
   "metadata": {},
   "outputs": [],
   "source": [
    "ROOT::RDF::RNode df3 = df2.Define(\"volidCE\", \"volidEpvtTot(volid[chainMaskT5 == maskCE_ELECT || chainMaskT5 == maskCE_CHILD], edep_pvt[chainMaskT5 == maskCE_ELECT || chainMaskT5 == maskCE_CHILD])\");\n",
    "df3 = df3.Define(\"edep_pvtCE\", \"std::get<1>(volidCE)\");\n",
    "df3 = df3.Redefine(\"volidCE\", \"std::get<0>(volidCE)\");\n",
    "df3 = df3.Define(\"volidGamma\", \"volidEpvtTot(volid[chainMaskT5 == maskGAMMA || chainMaskT5 == maskG_CHILD], edep_pvt[chainMaskT5 == maskGAMMA || chainMaskT5 == maskG_CHILD])\");\n",
    "df3 = df3.Define(\"edep_pvtGamma\", \"std::get<1>(volidGamma)\");\n",
    "df3 = df3.Redefine(\"volidGamma\", \"std::get<0>(volidGamma)\");"
   ]
  },
  {
   "cell_type": "code",
   "execution_count": 16,
   "id": "b24d0911",
   "metadata": {},
   "outputs": [],
   "source": [
    "df3  = df3.Filter(\"ROOT::VecOps::Sum(edep_pvtGamma > 0.1) == 1\", \"1 cube Gamma\")\n",
    "    .Filter(\"ROOT::VecOps::Sum(edep_pvtCE > 0.1) == 1\", \"1 cube CE\");"
   ]
  },
  {
   "cell_type": "code",
   "execution_count": 17,
   "id": "9e1aad06",
   "metadata": {},
   "outputs": [
    {
     "name": "stdout",
     "output_type": "stream",
     "text": [
      "(double) 1795.0000\n"
     ]
    }
   ],
   "source": [
    "double GammaCEEvent = df3.Count().GetValue();\n",
    "GammaCEEvent"
   ]
  },
  {
   "cell_type": "code",
   "execution_count": 18,
   "id": "f61e2271",
   "metadata": {},
   "outputs": [
    {
     "name": "stdout",
     "output_type": "stream",
     "text": [
      "(double) 1.2859456\n"
     ]
    }
   ],
   "source": [
    " GammaCEEvent * 100. / totalEvent"
   ]
  },
  {
   "cell_type": "markdown",
   "id": "8a6b3551",
   "metadata": {},
   "source": [
    "# Cut five\n",
    "\n",
    "Gamma <-> CE distance above 1"
   ]
  },
  {
   "cell_type": "code",
   "execution_count": 19,
   "id": "9ab6f539",
   "metadata": {},
   "outputs": [],
   "source": [
    "ROOT::RDF::RNode df4 = df3.Define(\"GammaEpvtRef\", \"edep_pvtGamma[edep_pvtGamma > 0.1]\");\n",
    "df4 = df4.Define(\"GammaVolidRef\", \"volidGamma[edep_pvtGamma > 0.1]\");\n",
    "df4 = df4.Define(\"CEEpvtRef\", \"edep_pvtCE[edep_pvtCE > 0.1]\");\n",
    "df4 = df4.Define(\"CEVolidRef\", \"volidCE[edep_pvtCE > 0.1]\");"
   ]
  },
  {
   "cell_type": "code",
   "execution_count": 20,
   "id": "9a73ea1e",
   "metadata": {},
   "outputs": [],
   "source": [
    "df4 = df4.Define(\"euclidDistGrefCeref\", \"euclidDist(CEVolidRef.at(0), GammaVolidRef)\");\n",
    "df4 = df4.Define(\"zDistGrefCeref\", \"zDist(CEVolidRef.at(0), GammaVolidRef)\");"
   ]
  },
  {
   "cell_type": "code",
   "execution_count": 21,
   "id": "3aa80734",
   "metadata": {},
   "outputs": [],
   "source": [
    "df4 = df4.Filter(\"ROOT::VecOps::Any(euclidDistGrefCeref >= 1.)\", \"Distance >= 1\");"
   ]
  },
  {
   "cell_type": "code",
   "execution_count": 22,
   "id": "5dbb3078",
   "metadata": {},
   "outputs": [
    {
     "name": "stdout",
     "output_type": "stream",
     "text": [
      "(double) 1574.0000\n"
     ]
    }
   ],
   "source": [
    "double TriggerEvent = df4.Count().GetValue();\n",
    "TriggerEvent"
   ]
  },
  {
   "cell_type": "code",
   "execution_count": 23,
   "id": "fdf5c3cd",
   "metadata": {},
   "outputs": [
    {
     "name": "stdout",
     "output_type": "stream",
     "text": [
      "(double) 1.1276202\n"
     ]
    }
   ],
   "source": [
    "TriggerEvent * 100. / totalEvent"
   ]
  },
  {
   "cell_type": "markdown",
   "id": "6e27f119",
   "metadata": {},
   "source": [
    "# Noise cut"
   ]
  },
  {
   "cell_type": "code",
   "execution_count": 24,
   "id": "d9672c8d",
   "metadata": {},
   "outputs": [],
   "source": [
    "ROOT::RDF::RNode df5 = df4.Define(\"volidNeutron\", \"volidEpvtTot(volid[chainMaskT5 == maskNOISE], edep_pvt[chainMaskT5 == maskNOISE])\");\n",
    "df5 = df5.Define(\"edep_pvtNeutron\", \"std::get<1>(volidNeutron)\");\n",
    "df5 = df5.Redefine(\"volidNeutron\", \"std::get<0>(volidNeutron)\");"
   ]
  },
  {
   "cell_type": "code",
   "execution_count": 25,
   "id": "89474611",
   "metadata": {},
   "outputs": [],
   "source": [
    "df5 = df5.Define(\"edep_pvtNeutronCut\", \"edep_pvtNeutron[edep_pvtNeutron < 10000. && edep_pvtNeutron > 0.1]\");\n",
    "df5 = df5.Define(\"volidNeutronCut\", \"volidNeutron[edep_pvtNeutron < 100000. && edep_pvtNeutron > 0.1]\");"
   ]
  },
  {
   "cell_type": "code",
   "execution_count": 26,
   "id": "ab3d2df9",
   "metadata": {},
   "outputs": [],
   "source": [
    "df5 = df5.Define(\"CubeCounter\", \"volidNeutronCut.size()\");"
   ]
  },
  {
   "cell_type": "code",
   "execution_count": 27,
   "id": "58ff4951",
   "metadata": {},
   "outputs": [],
   "source": [
    "df5 = df5.Filter(\"!CubeCounter\");"
   ]
  },
  {
   "cell_type": "code",
   "execution_count": 28,
   "id": "63c15f37",
   "metadata": {},
   "outputs": [
    {
     "name": "stdout",
     "output_type": "stream",
     "text": [
      "(double) 235.00000\n"
     ]
    }
   ],
   "source": [
    "double WithoutNoiseEvent = df5.Count().GetValue()"
   ]
  },
  {
   "cell_type": "code",
   "execution_count": 29,
   "id": "460cc850",
   "metadata": {},
   "outputs": [
    {
     "name": "stdout",
     "output_type": "stream",
     "text": [
      "(double) 0.16835499\n"
     ]
    }
   ],
   "source": [
    "WithoutNoiseEvent * 100. / totalEvent"
   ]
  },
  {
   "cell_type": "markdown",
   "id": "e8a41f4e",
   "metadata": {},
   "source": [
    "# Energy distributions"
   ]
  },
  {
   "cell_type": "code",
   "execution_count": 30,
   "id": "0d9f018a",
   "metadata": {},
   "outputs": [
    {
     "data": {
      "image/png": "[encoded data removed]",
      "text/plain": [
       "<IPython.core.display.Image object>"
      ]
     },
     "metadata": {},
     "output_type": "display_data"
    },
    {
     "name": "stderr",
     "output_type": "stream",
     "text": [
      "Info in <TCanvas::Print>: pdf file ../plots/pdf/GammaEnergydist.pdf has been created\n",
      "Info in <TCanvas::Print>: ps file ../plots/pgf/GammaEnergydist.pgf has been created\n",
      "Info in <TCanvas::Print>: png file ../plots/png/GammaEnergydist.png has been created\n"
     ]
    }
   ],
   "source": [
    "TCanvas c;\n",
    "auto hist = df4.Histo1D({\"Gamma Energy\", \"Gamma Energy\", 100u, 0., 0.5}, \"GammaEpvtRef\")->DrawClone();\n",
    "c.Draw();\n",
    "std::string dir {\"../plots\"};\n",
    "std::string file {\"GammaEnergydist\"};\n",
    "savePlot(hist, dir, file);"
   ]
  },
  {
   "cell_type": "code",
   "execution_count": 31,
   "id": "a8f35f72",
   "metadata": {},
   "outputs": [
    {
     "data": {
      "image/png": "[encoded data removed]",
      "text/plain": [
       "<IPython.core.display.Image object>"
      ]
     },
     "metadata": {},
     "output_type": "display_data"
    },
    {
     "name": "stderr",
     "output_type": "stream",
     "text": [
      "Info in <TCanvas::Print>: pdf file ../plots/pdf/CEEnergydist.pdf has been created\n",
      "Info in <TCanvas::Print>: ps file ../plots/pgf/CEEnergydist.pgf has been created\n",
      "Info in <TCanvas::Print>: png file ../plots/png/CEEnergydist.png has been created\n"
     ]
    }
   ],
   "source": [
    "TCanvas c;\n",
    "auto hist = df4.Histo1D({\"CE Energy\", \"CE Energy\", 100u, 0., 5.0}, \"CEEpvtRef\")->DrawClone();\n",
    "c.Draw();\n",
    "std::string file {\"CEEnergydist\"};\n",
    "savePlot(hist, dir, file);"
   ]
  },
  {
   "cell_type": "markdown",
   "id": "c0c62de5",
   "metadata": {},
   "source": [
    "# Distance CE Gamma"
   ]
  },
  {
   "cell_type": "code",
   "execution_count": 32,
   "id": "0b76adde",
   "metadata": {},
   "outputs": [
    {
     "data": {
      "image/png": "[encoded data removed]",
      "text/plain": [
       "<IPython.core.display.Image object>"
      ]
     },
     "metadata": {},
     "output_type": "display_data"
    },
    {
     "name": "stderr",
     "output_type": "stream",
     "text": [
      "Info in <TCanvas::Print>: pdf file ../plots/pdf/GammaCEDistEuclid.pdf has been created\n",
      "Info in <TCanvas::Print>: ps file ../plots/pgf/GammaCEDistEuclid.pgf has been created\n",
      "Info in <TCanvas::Print>: png file ../plots/png/GammaCEDistEuclid.png has been created\n"
     ]
    }
   ],
   "source": [
    "TCanvas c;\n",
    "auto hist = df4.Histo1D({\"Distance CE<->Gamma Euclid\", \"Distance C3<->Gamma Euclid\", 100u, 0., 10.}, \"euclidDistGrefCeref\")->DrawClone();\n",
    "c.Draw();\n",
    "std::string file {\"GammaCEDistEuclid\"};\n",
    "savePlot(hist, dir, file);"
   ]
  },
  {
   "cell_type": "code",
   "execution_count": 33,
   "id": "8ef9fd6b",
   "metadata": {},
   "outputs": [
    {
     "data": {
      "image/png": "[encoded data removed]",
      "text/plain": [
       "<IPython.core.display.Image object>"
      ]
     },
     "metadata": {},
     "output_type": "display_data"
    },
    {
     "name": "stderr",
     "output_type": "stream",
     "text": [
      "Info in <TCanvas::Print>: pdf file ../plots/pdf/GammaCEDistZ.pdf has been created\n",
      "Info in <TCanvas::Print>: ps file ../plots/pgf/GammaCEDistZ.pgf has been created\n",
      "Info in <TCanvas::Print>: png file ../plots/png/GammaCEDistZ.png has been created\n"
     ]
    }
   ],
   "source": [
    "TCanvas c;\n",
    "auto hist = df4.Histo1D({\"Distance CE<->Gamma z\", \"Distance<->CE Gamma z\", 20u, -9., 10.}, \"zDistGrefCeref\")->DrawClone();\n",
    "c.Draw();\n",
    "std::string file {\"GammaCEDistZ\"};\n",
    "savePlot(hist, dir, file);"
   ]
  },
  {
   "cell_type": "code",
   "execution_count": 34,
   "id": "372d37dd",
   "metadata": {},
   "outputs": [],
   "source": [
    "// ROOT::RDF::SaveGraph(df4, \"./firstFilterCutTree.dot\");"
   ]
  },
  {
   "cell_type": "code",
   "execution_count": null,
   "id": "fd1700f0",
   "metadata": {},
   "outputs": [],
   "source": []
  }
 ],
 "metadata": {
  "kernelspec": {
   "display_name": "ROOT C++",
   "language": "c++",
   "name": "root"
  },
  "language_info": {
   "codemirror_mode": "text/x-c++src",
   "file_extension": ".C",
   "mimetype": " text/x-c++src",
   "name": "c++"
  }
 },
 "nbformat": 4,
 "nbformat_minor": 5
}
