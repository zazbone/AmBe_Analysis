{
 "cells": [
  {
   "cell_type": "code",
   "execution_count": 1,
   "id": "6655b604",
   "metadata": {},
   "outputs": [],
   "source": [
    ".L ../libAmBe.so"
   ]
  },
  {
   "cell_type": "code",
   "execution_count": 2,
   "id": "c5bab233",
   "metadata": {},
   "outputs": [
    {
     "name": "stdout",
     "output_type": "stream",
     "text": [
      "Hello World !\n"
     ]
    }
   ],
   "source": [
    "test();"
   ]
  },
  {
   "cell_type": "code",
   "execution_count": 3,
   "id": "5917c96e",
   "metadata": {},
   "outputs": [],
   "source": [
    "std::unique_ptr<TFile> G4File {TFile::Open(\"../dataset/ambe2022.root\")};"
   ]
  },
  {
   "cell_type": "code",
   "execution_count": 4,
   "id": "ec6fcddb",
   "metadata": {},
   "outputs": [],
   "source": [
    "std::unique_ptr<TTree> mainTree{G4File->Get<TTree>(\"T5\")};\n",
    "mainTree->AddFriend(\"T1\", \"../dataset/ambe2022.root\");\n",
    "mainTree->AddFriend(\"T9\", \"../dataset/ambe2022.root\");\n",
    "mainTree->AddFriend(\"A\", \"../dataset/EQuenched/ambe2022.root\");\n",
    "ROOT::RDF::RNode df = ROOT::RDataFrame{*mainTree};\n",
    "double Nt = df.Count().GetValue();\n",
    "double Ncet = df.Filter(\"CEReachPvt\").Count().GetValue();"
   ]
  },
  {
   "cell_type": "markdown",
   "id": "19e6298a",
   "metadata": {},
   "source": [
    "# Purity and efficiency for the rank of ME cube"
   ]
  },
  {
   "cell_type": "markdown",
   "id": "e7e74797",
   "metadata": {},
   "source": [
    "## Rank 1 with 1 ME cube"
   ]
  },
  {
   "cell_type": "code",
   "execution_count": 5,
   "id": "57a8bdb7",
   "metadata": {},
   "outputs": [],
   "source": [
    "ROOT::RDF::RNode dfr1 = df.Filter(\"EpvtRankedCube[3.7 < EpvtRankedCube && EpvtRankedCube < 4.6].size() == 1\");"
   ]
  },
  {
   "cell_type": "code",
   "execution_count": 6,
   "id": "ddb05a4b",
   "metadata": {},
   "outputs": [],
   "source": [
    "double Ns = dfr1.Count().GetValue();"
   ]
  },
  {
   "cell_type": "code",
   "execution_count": 7,
   "id": "7cab8eb6",
   "metadata": {},
   "outputs": [],
   "source": [
    "dfr1 = dfr1.Define(\"MEvolid\", \"volidRankedCube[3.7 < EpvtRankedCube && EpvtRankedCube < 4.6][0]\");"
   ]
  },
  {
   "cell_type": "code",
   "execution_count": 8,
   "id": "c3eefe5b",
   "metadata": {},
   "outputs": [],
   "source": [
    "dfr1 = dfr1.Filter(\"ROOT::VecOps::Any(MEvolid == volid[E_quenched > 0.1] && (chainMaskT5[E_quenched > 0.1] == maskCE_ELECT))\");"
   ]
  },
  {
   "cell_type": "code",
   "execution_count": 9,
   "id": "9d8f93f6",
   "metadata": {},
   "outputs": [],
   "source": [
    "double Nces = dfr1.Count().GetValue();"
   ]
  },
  {
   "cell_type": "code",
   "execution_count": 10,
   "id": "ace65e41",
   "metadata": {},
   "outputs": [
    {
     "name": "stdout",
     "output_type": "stream",
     "text": [
      "(double) 32.209022\n"
     ]
    }
   ],
   "source": [
    "double eff = Nces / Ncet * 100"
   ]
  },
  {
   "cell_type": "code",
   "execution_count": 11,
   "id": "3fbad676",
   "metadata": {},
   "outputs": [
    {
     "name": "stdout",
     "output_type": "stream",
     "text": [
      "(double) 90.102982\n"
     ]
    }
   ],
   "source": [
    "double purity = Nces / Ns * 100"
   ]
  },
  {
   "cell_type": "markdown",
   "id": "76439285",
   "metadata": {},
   "source": [
    "## Rank 1 with 2 ME cube"
   ]
  },
  {
   "cell_type": "code",
   "execution_count": 12,
   "id": "bb94b54d",
   "metadata": {},
   "outputs": [
    {
     "name": "stdout",
     "output_type": "stream",
     "text": [
      "(double) 0.040637774\n"
     ]
    }
   ],
   "source": [
    "ROOT::RDF::RNode dfr1 = df.Filter(\"EpvtRankedCube[3.7 < EpvtRankedCube && EpvtRankedCube < 4.6].size() == 2\");\n",
    "double Ns = dfr1.Count().GetValue();\n",
    "dfr1 = dfr1.Define(\"MEvolid\", \"volidRankedCube[3.7 < EpvtRankedCube && EpvtRankedCube < 4.6][0]\");\n",
    "dfr1 = dfr1.Filter(\"ROOT::VecOps::Any(MEvolid == volid[E_quenched > 0.1] && (chainMaskT5[E_quenched > 0.1] == maskCE_ELECT))\");\n",
    "double Nces = dfr1.Count().GetValue();\n",
    "double eff = Nces / Ncet * 100"
   ]
  },
  {
   "cell_type": "code",
   "execution_count": 13,
   "id": "a8ff13e8",
   "metadata": {},
   "outputs": [
    {
     "name": "stdout",
     "output_type": "stream",
     "text": [
      "(double) 36.170213\n"
     ]
    }
   ],
   "source": [
    "double purity = Nces / Ns * 100"
   ]
  },
  {
   "cell_type": "markdown",
   "id": "7558a6f2",
   "metadata": {},
   "source": [
    "## Rank 2 with 2 ME cube"
   ]
  },
  {
   "cell_type": "code",
   "execution_count": 14,
   "id": "e00e5ec4",
   "metadata": {},
   "outputs": [
    {
     "name": "stdout",
     "output_type": "stream",
     "text": [
      "(double) 0.045418689\n"
     ]
    }
   ],
   "source": [
    "ROOT::RDF::RNode dfr2 = df.Filter(\"EpvtRankedCube[3.7 < EpvtRankedCube && EpvtRankedCube < 4.6].size() == 2\");\n",
    "double Ns = dfr2.Count().GetValue();\n",
    "dfr2 = dfr2.Define(\"MEvolid\", \"volidRankedCube[3.7 < EpvtRankedCube && EpvtRankedCube < 4.6][1]\");\n",
    "dfr2 = dfr2.Filter(\"ROOT::VecOps::Any(MEvolid == volid[E_quenched > 0.1] && (chainMaskT5[E_quenched > 0.1] == maskCE_ELECT))\");\n",
    "double Nces = dfr2.Count().GetValue();\n",
    "double eff = Nces / Ncet * 100"
   ]
  },
  {
   "cell_type": "code",
   "execution_count": 15,
   "id": "9c8f8583",
   "metadata": {},
   "outputs": [
    {
     "name": "stdout",
     "output_type": "stream",
     "text": [
      "(double) 40.425532\n"
     ]
    }
   ],
   "source": [
    "double purity = Nces / Ns * 100"
   ]
  },
  {
   "cell_type": "code",
   "execution_count": null,
   "id": "768c20e6",
   "metadata": {},
   "outputs": [],
   "source": []
  }
 ],
 "metadata": {
  "kernelspec": {
   "display_name": "ROOT C++",
   "language": "c++",
   "name": "root"
  },
  "language_info": {
   "codemirror_mode": "text/x-c++src",
   "file_extension": ".C",
   "mimetype": " text/x-c++src",
   "name": "c++"
  }
 },
 "nbformat": 4,
 "nbformat_minor": 5
}
