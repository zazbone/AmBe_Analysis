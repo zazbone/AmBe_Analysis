{
 "cells": [
  {
   "cell_type": "code",
   "execution_count": 1,
   "id": "7b10010c",
   "metadata": {},
   "outputs": [],
   "source": [
    ".L ../libAmBe.so"
   ]
  },
  {
   "cell_type": "code",
   "execution_count": 2,
   "id": "4138da32",
   "metadata": {},
   "outputs": [
    {
     "name": "stdout",
     "output_type": "stream",
     "text": [
      "(const int) 11\n"
     ]
    }
   ],
   "source": [
    "test // Test if lib loading is working"
   ]
  },
  {
   "cell_type": "code",
   "execution_count": 3,
   "id": "70bad77b",
   "metadata": {},
   "outputs": [],
   "source": [
    "char const* path {\"../dataset/AmBe_x1-y1_Run_99.root\"};\n",
    "DataSetHolder dataset = ambeDataSet(path);"
   ]
  },
  {
   "cell_type": "code",
   "execution_count": 4,
   "id": "30f755ab",
   "metadata": {},
   "outputs": [],
   "source": [
    "ROOT::RDF::RNode df = filterT1Events(dataset.df, 10e-6).Filter(\"is_event\");"
   ]
  },
  {
   "cell_type": "code",
   "execution_count": 5,
   "id": "19696962",
   "metadata": {},
   "outputs": [
    {
     "name": "stdout",
     "output_type": "stream",
     "text": [
      "(const unsigned long long) 86297\n"
     ]
    }
   ],
   "source": [
    "df.Count().GetValue()"
   ]
  },
  {
   "cell_type": "code",
   "execution_count": 6,
   "id": "034fa03b",
   "metadata": {},
   "outputs": [],
   "source": [
    "df = df.Define(\"chainMaskT9\", \"decayChainMask(T9.parentid, T9.trackid, T9.pdg, T9.CreatorProcessID, T9.initialEkin)\");"
   ]
  },
  {
   "cell_type": "code",
   "execution_count": 7,
   "id": "5cf8eb53",
   "metadata": {},
   "outputs": [],
   "source": [
    "df = createT5Mask(df);"
   ]
  },
  {
   "cell_type": "code",
   "execution_count": 8,
   "id": "14eb2ed3",
   "metadata": {},
   "outputs": [],
   "source": [
    "df = df.Define(\"volidCE\", \"volidEpvtTot(volid[chainMaskT5 == maskCE_ELECT || chainMaskT5 == maskCE_CHILD], edep_pvt[chainMaskT5 == maskCE_ELECT || chainMaskT5 == maskCE_CHILD])\");\n",
    "df = df.Define(\"edep_pvtCE\", \"std::get<1>(volidCE)\");\n",
    "df = df.Redefine(\"volidCE\", \"std::get<0>(volidCE)\");"
   ]
  },
  {
   "cell_type": "code",
   "execution_count": 9,
   "id": "700d4486",
   "metadata": {},
   "outputs": [],
   "source": [
    "df = df.Define(\"volidGamma\", \"volidEpvtTot(volid[chainMaskT5 == maskGAMMA || chainMaskT5 == maskG_CHILD], edep_pvt[chainMaskT5 == maskGAMMA || chainMaskT5 == maskG_CHILD])\");\n",
    "df = df.Define(\"edep_pvtGamma\", \"std::get<1>(volidGamma)\");\n",
    "df = df.Redefine(\"volidGamma\", \"std::get<0>(volidGamma)\");"
   ]
  },
  {
   "cell_type": "code",
   "execution_count": 10,
   "id": "ab8f25e5",
   "metadata": {},
   "outputs": [],
   "source": [
    "df = df.Define(\"firstGVolid\", \"T9.firstVolID[chainMaskT9 == maskGAMMA].size() ? T9.firstVolID[chainMaskT9 == maskGAMMA].at(0): -1\");\n",
    "df = df.Define(\"lastGVolid\", \"T9.lastVolID[chainMaskT9 == maskGAMMA].size() ? T9.lastVolID[chainMaskT9 == maskGAMMA].at(0): -1\");\n",
    "df = df.Define(\"maxEpvtGVolid\", [](ROOT::RVec<double>& Epvt , ROOT::RVec<int>& volid){int index = indexMax(Epvt); return ((index > -1) ? volid[index] : -1);}, {\"edep_pvtGamma\", \"volidGamma\"});"
   ]
  },
  {
   "cell_type": "code",
   "execution_count": null,
   "id": "328a164d",
   "metadata": {},
   "outputs": [],
   "source": [
    "df = df.Define(\"firstCEVolid\", \"T9.firstVolID[chainMaskT9 == maskCE_ELECT].size() ? T9.firstVolID[chainMaskT9 == maskCE_ELECT].at(0): -1\");\n",
    "df = df.Define(\"lastCEVolid\", \"T9.lastVolID[chainMaskT9 == maskCE_ELECT].size() ? T9.lastVolID[chainMaskT9 == maskCE_ELECT].at(0): -1\");\n",
    "df = df.Define(\"maxEpvtCEVolid\", [](ROOT::RVec<double>& Epvt , ROOT::RVec<int>& volid){int index = indexMax(Epvt); return ((index > -1) ? volid[index] : -1);}, {\"edep_pvtCE\", \"volidCE\"});"
   ]
  },
  {
   "cell_type": "code",
   "execution_count": null,
   "id": "7c66d84f",
   "metadata": {},
   "outputs": [],
   "source": [
    "df = df.Filter(\"ROOT::VecOps::Any(chainMaskT5 == maskGAMMA)\").Filter(\"ROOT::VecOps::Any(chainMaskT5 == maskCE_ELECT)\").Filter(\"ROOT::VecOps::Any(T9.initialEkin[chainMaskT9 == maskCE_ELECT] > 4)\");"
   ]
  },
  {
   "cell_type": "code",
   "execution_count": null,
   "id": "7fa32514",
   "metadata": {},
   "outputs": [],
   "source": [
    "df.Count().GetValue()"
   ]
  },
  {
   "cell_type": "code",
   "execution_count": null,
   "id": "fe7caba1",
   "metadata": {},
   "outputs": [],
   "source": [
    "df  = df.Filter(\"ROOT::VecOps::Sum(edep_pvtGamma > 0.05) == 1\").Filter(\"ROOT::VecOps::Sum(edep_pvtCE > 0.05) == 1\");"
   ]
  },
  {
   "cell_type": "code",
   "execution_count": null,
   "id": "7091e24b",
   "metadata": {},
   "outputs": [],
   "source": [
    "df.Count().GetValue()"
   ]
  },
  {
   "cell_type": "code",
   "execution_count": null,
   "id": "58a71eab",
   "metadata": {},
   "outputs": [],
   "source": [
    "df = df.Define(\"CEHammingDist\", \"hammingDist(maxEpvtCEVolid, volidCE)\");"
   ]
  },
  {
   "cell_type": "code",
   "execution_count": null,
   "id": "8107c6da",
   "metadata": {},
   "outputs": [],
   "source": [
    "TCanvas c;\n",
    "auto hist = df.Histo1D({\"CE Hamming dist\", \"CE Hamming dist\", 20u, 0., 20.0}, \"CEHammingDist\")->DrawClone();\n",
    "c.Draw();\n",
    "std::string dir {\"../plots\"};\n",
    "std::string file {\"CEHammingDist\"};\n",
    "savePlot(hist, dir, file);"
   ]
  },
  {
   "cell_type": "code",
   "execution_count": null,
   "id": "f99634ef",
   "metadata": {},
   "outputs": [],
   "source": [
    "TCanvas c;\n",
    "auto hist = df.Histo1D<ROOT::RVec<int>, ROOT::RVec<double>>( {\"CE Hamming-Energy dist\", \"CE Hamming-Energy dist\", 10u, 0., 10.0}, \"CEHammingDist\", \"edep_pvtCE\")->DrawClone();\n",
    "c.Draw();\n",
    "std::string dir {\"../plots\"};\n",
    "std::string file {\"CEHammingEnergyDist\"};\n",
    "savePlot(hist, dir, file);"
   ]
  },
  {
   "cell_type": "code",
   "execution_count": null,
   "id": "5e88cc70",
   "metadata": {},
   "outputs": [],
   "source": [
    "df = df.Define(\"GHammingDist\", \"hammingDist(lastGVolid, volidGamma[edep_pvtGamma > 0.05])\");"
   ]
  },
  {
   "cell_type": "code",
   "execution_count": null,
   "id": "bdf6caa9",
   "metadata": {},
   "outputs": [],
   "source": [
    "TCanvas c;\n",
    "auto hist = df.Histo1D({\"Gamma Hamming dist\", \"Gamma Hamming dist\", 20u, 0., 20.0}, \"GHammingDist\")->DrawClone();\n",
    "c.Draw();\n",
    "std::string dir {\"../plots\"};\n",
    "std::string file {\"GammaHammingDist\"};\n",
    "savePlot(hist, dir, file);"
   ]
  },
  {
   "cell_type": "code",
   "execution_count": null,
   "id": "cfd0267d",
   "metadata": {},
   "outputs": [],
   "source": [
    "TCanvas c;\n",
    "auto hist = df.Histo1D<ROOT::RVec<int>, ROOT::RVec<double>>({\"Gamma Hamming-Ennergy dist\", \"Gamma Hamming-Ennergy dist\", 20u, 0., 20.0}, \"GHammingDist\", \"edep_pvtGamma[edep_pvtGamma > 0.05]\")->DrawClone();\n",
    "c.Draw();\n",
    "std::string dir {\"../plots\"};\n",
    "std::string file {\"GammaHammingEnnergyDist\"};\n",
    "savePlot(hist, dir, file);"
   ]
  },
  {
   "cell_type": "code",
   "execution_count": null,
   "id": "52f6e22e",
   "metadata": {},
   "outputs": [],
   "source": [
    "df = df.Define(\"GammaCoM\", \"centerOfMass(volidGamma, edep_pvtGamma[edep_pvtGamma > 0.05])\");"
   ]
  },
  {
   "cell_type": "code",
   "execution_count": null,
   "id": "b8bc6e4e",
   "metadata": {},
   "outputs": [],
   "source": [
    "df = df.Define(\"GCoMHammingDist\", \"neightborDist(GammaCoM, volidGamma[edep_pvtGamma > 0.05])\");"
   ]
  },
  {
   "cell_type": "code",
   "execution_count": null,
   "id": "474c8958",
   "metadata": {},
   "outputs": [],
   "source": [
    "TCanvas c;\n",
    "auto hist = df.Histo1D({\"GammaCoM Hamming dist\", \"GammaCoM Hamming dist\", 40u, -20., 20.0}, \"GCoMHammingDist\")->DrawClone();\n",
    "c.Draw();\n",
    "std::string dir {\"../plots\"};\n",
    "std::string file {\"GammaCoMHammingDist\"};\n",
    "savePlot(hist, dir, file);"
   ]
  },
  {
   "cell_type": "code",
   "execution_count": null,
   "id": "b0eae15d",
   "metadata": {},
   "outputs": [],
   "source": [
    "TCanvas c;\n",
    "auto hist = df.Histo1D<ROOT::RVec<int>, ROOT::RVec<double>>({\"Gamma CoM Hamming-Ennergy dist\", \"Gamma CoM Hamming-Ennergy dist\", 40u, -19., 21.0}, \"GCoMHammingDist\", \"edep_pvtGamma[edep_pvtGamma > 0.05]\")->DrawClone();\n",
    "c.Draw();\n",
    "std::string dir {\"../plots\"};\n",
    "std::string file {\"GammaCoMHammingEnnergyDist\"};\n",
    "savePlot(hist, dir, file);"
   ]
  },
  {
   "cell_type": "code",
   "execution_count": null,
   "id": "91117fbb",
   "metadata": {},
   "outputs": [],
   "source": [
    "df = df.Define(\"distGrefCeref\", \"euclidDist(GammaCoM, {maxEpvtCEVolid})\");"
   ]
  },
  {
   "cell_type": "code",
   "execution_count": null,
   "id": "6f2f1d36",
   "metadata": {},
   "outputs": [],
   "source": [
    "TCanvas c;\n",
    "auto hist = df.Histo1D({\"Gamma-CE Hamming dist\", \"Gamma-CE Hamming dist\", 20u, 0., 20.0}, \"distGrefCeref\")->DrawClone();\n",
    "c.Draw();\n",
    "std::string dir {\"../plots\"};\n",
    "std::string file {\"GammaCEHammingDist\"};\n",
    "savePlot(hist, dir, file);"
   ]
  },
  {
   "cell_type": "markdown",
   "id": "4631b3ad",
   "metadata": {},
   "source": [
    "std::ofstream outputfileT5 (\"T5.txt\", std::ofstream::out);\n",
    "outputfileT5 << df.Display({\n",
    "    \"chainMaskT5\", \"pdg\", \"trackid\", \"parentid\", \"volid\", \"edep_pvt\"\n",
    "}, 100, 1000)->AsString();\n",
    "outputfileT5.close()"
   ]
  },
  {
   "cell_type": "markdown",
   "id": "ee34505f",
   "metadata": {},
   "source": [
    "std::ofstream outputfileT9 (\"T9.txt\", std::ofstream::out);\n",
    "outputfileT9 << df.Display({\n",
    "    \"chainMaskT9\", \"T9.pdg\", \"T9.trackid\", \"T9.parentid\", \"T9.firstVolID\", \"T9.lastVolID\", \"T9.initialEkin\"\n",
    "}, 100, 1000)->AsString();\n",
    "outputfileT9.close()"
   ]
  },
  {
   "cell_type": "markdown",
   "id": "650a4b93",
   "metadata": {},
   "source": [
    "std::ofstream outputfileDef (\"Def.txt\", std::ofstream::out);\n",
    "outputfileDef << df.Display({\n",
    "    \"firstCEVolid\", \"maxEpvtCEVolid\", \"lastCEVolid\", \"edep_pvtCE\", \"volidCE\", \"CEHammingDist\",\n",
    "    \"firstGVolid\", \"maxEpvtGVolid\", \"lastGVolid\", \"edep_pvtGamma\", \"volidGamma\", \"GHammingDist\"\n",
    "}, 100, 1000)->AsString();\n",
    "outputfileDef.close()"
   ]
  },
  {
   "cell_type": "code",
   "execution_count": null,
   "id": "601190ad",
   "metadata": {},
   "outputs": [],
   "source": [
    "df.Count().GetValue()"
   ]
  },
  {
   "cell_type": "code",
   "execution_count": null,
   "id": "999b424e",
   "metadata": {},
   "outputs": [],
   "source": [
    "df.Filter(\"(distGrefCeref >= 4).at(0)\").Count().GetValue()"
   ]
  }
 ],
 "metadata": {
  "kernelspec": {
   "display_name": "ROOT C++",
   "language": "c++",
   "name": "root"
  },
  "language_info": {
   "codemirror_mode": "text/x-c++src",
   "file_extension": ".C",
   "mimetype": " text/x-c++src",
   "name": "c++"
  }
 },
 "nbformat": 4,
 "nbformat_minor": 5
}
