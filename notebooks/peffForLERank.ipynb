{
 "cells": [
  {
   "cell_type": "code",
   "execution_count": 1,
   "id": "2203b0e3",
   "metadata": {},
   "outputs": [],
   "source": [
    ".L ../libAmBe.so"
   ]
  },
  {
   "cell_type": "code",
   "execution_count": 2,
   "id": "ed4059c6",
   "metadata": {},
   "outputs": [
    {
     "name": "stdout",
     "output_type": "stream",
     "text": [
      "Hello World !\n"
     ]
    }
   ],
   "source": [
    "test();"
   ]
  },
  {
   "cell_type": "code",
   "execution_count": 3,
   "id": "1ab84b08",
   "metadata": {},
   "outputs": [],
   "source": [
    "std::unique_ptr<TFile> G4File {TFile::Open(\"../dataset/ambe2022.root\")};"
   ]
  },
  {
   "cell_type": "code",
   "execution_count": 4,
   "id": "6d4d65c0",
   "metadata": {},
   "outputs": [],
   "source": [
    "std::unique_ptr<TTree> mainTree{G4File->Get<TTree>(\"T5\")};\n",
    "mainTree->AddFriend(\"T1\", \"../dataset/ambe2022.root\");\n",
    "mainTree->AddFriend(\"T9\", \"../dataset/ambe2022.root\");\n",
    "mainTree->AddFriend(\"A\", \"../dataset/EQuenched/ambe2022.root\");\n",
    "ROOT::RDF::RNode df = ROOT::RDataFrame{*mainTree};\n",
    "double Nt = df.Count().GetValue();\n",
    "double Ncet = df.Filter(\"CEReachPvt\").Count().GetValue();"
   ]
  },
  {
   "cell_type": "markdown",
   "id": "c827f4e1",
   "metadata": {},
   "source": [
    "# Purity and efficiency for the rank of ME cube"
   ]
  },
  {
   "cell_type": "markdown",
   "id": "c149fa7a",
   "metadata": {},
   "source": [
    "## Rank 1 with 1 LE cube"
   ]
  },
  {
   "cell_type": "code",
   "execution_count": 5,
   "id": "0ae65a5f",
   "metadata": {},
   "outputs": [],
   "source": [
    "ROOT::RDF::RNode dfr1 = df.Filter(\"EpvtRankedCube[0.1 < EpvtRankedCube && EpvtRankedCube < 0.5].size() == 1\");"
   ]
  },
  {
   "cell_type": "code",
   "execution_count": 6,
   "id": "c86705dd",
   "metadata": {},
   "outputs": [],
   "source": [
    "double Ns = dfr1.Count().GetValue();"
   ]
  },
  {
   "cell_type": "code",
   "execution_count": 7,
   "id": "5078e8bd",
   "metadata": {},
   "outputs": [],
   "source": [
    "dfr1 = dfr1.Define(\"LEvolid\", \"volidRankedCube[0.1 < EpvtRankedCube && EpvtRankedCube < 0.5][0]\");"
   ]
  },
  {
   "cell_type": "code",
   "execution_count": 8,
   "id": "24968312",
   "metadata": {},
   "outputs": [],
   "source": [
    "dfr1 = dfr1.Filter(\"ROOT::VecOps::Any(LEvolid == volid[E_quenched > 0.1] && (chainMaskT5[E_quenched > 0.1] == maskG_CHILD))\");"
   ]
  },
  {
   "cell_type": "code",
   "execution_count": 9,
   "id": "e70dd901",
   "metadata": {},
   "outputs": [],
   "source": [
    "double Nces = dfr1.Count().GetValue();"
   ]
  },
  {
   "cell_type": "code",
   "execution_count": 10,
   "id": "65a6bdaa",
   "metadata": {},
   "outputs": [
    {
     "name": "stdout",
     "output_type": "stream",
     "text": [
      "(double) 15.839170\n"
     ]
    }
   ],
   "source": [
    "double eff = Nces / Ncet * 100"
   ]
  },
  {
   "cell_type": "code",
   "execution_count": 11,
   "id": "ac85ebd6",
   "metadata": {},
   "outputs": [
    {
     "name": "stdout",
     "output_type": "stream",
     "text": [
      "(double) 10.932911\n"
     ]
    }
   ],
   "source": [
    "double purity = Nces / Ns * 100"
   ]
  },
  {
   "cell_type": "markdown",
   "id": "96cce11a",
   "metadata": {},
   "source": [
    "## Rank 1 with 2 LE cube"
   ]
  },
  {
   "cell_type": "code",
   "execution_count": 12,
   "id": "59783516",
   "metadata": {},
   "outputs": [
    {
     "name": "stdout",
     "output_type": "stream",
     "text": [
      "(double) 15.839170\n"
     ]
    }
   ],
   "source": [
    "ROOT::RDF::RNode dfr2 = df.Filter(\"EpvtRankedCube[0.1 < EpvtRankedCube && EpvtRankedCube < 0.5].size() == 2\");\n",
    "double Ns = dfr2.Count().GetValue();\n",
    "dfr2 = dfr2.Define(\"MEvolid\", \"volidRankedCube[0.1 < EpvtRankedCube && EpvtRankedCube < 0.5][0]\");\n",
    "dfr2 = dfr2.Filter(\"ROOT::VecOps::Any(MEvolid == volid[E_quenched > 0.1] && (chainMaskT5[E_quenched > 0.1] == maskG_CHILD))\");\n",
    "double Nces = dfr1.Count().GetValue();\n",
    "double eff = Nces / Ncet * 100"
   ]
  },
  {
   "cell_type": "code",
   "execution_count": 13,
   "id": "24a71028",
   "metadata": {},
   "outputs": [
    {
     "name": "stdout",
     "output_type": "stream",
     "text": [
      "(double) 15.503042\n"
     ]
    }
   ],
   "source": [
    "double purity = Nces / Ns * 100"
   ]
  },
  {
   "cell_type": "markdown",
   "id": "d21dc68a",
   "metadata": {},
   "source": [
    "## Rank 2 with 2 or more LE cube"
   ]
  },
  {
   "cell_type": "code",
   "execution_count": 14,
   "id": "0d0f9cb1",
   "metadata": {},
   "outputs": [
    {
     "name": "stdout",
     "output_type": "stream",
     "text": [
      "(double) 17.777831\n"
     ]
    }
   ],
   "source": [
    "ROOT::RDF::RNode dfr3 = df.Filter(\"EpvtRankedCube[0.1 < EpvtRankedCube && EpvtRankedCube < 0.5].size() == 2\");\n",
    "double Ns = dfr3.Count().GetValue();\n",
    "dfr3 = dfr3.Define(\"MEvolid\", \"volidRankedCube[0.1 < EpvtRankedCube && EpvtRankedCube < 0.5][1]\");\n",
    "dfr3 = dfr3.Filter(\"ROOT::VecOps::Any(MEvolid == volid[E_quenched > 0.1] && (chainMaskT5[E_quenched > 0.1] == maskG_CHILD))\");\n",
    "double Nces = dfr3.Count().GetValue();\n",
    "double eff = Nces / Ncet * 100"
   ]
  },
  {
   "cell_type": "code",
   "execution_count": 15,
   "id": "4371174d",
   "metadata": {},
   "outputs": [
    {
     "name": "stdout",
     "output_type": "stream",
     "text": [
      "(double) 17.400562\n"
     ]
    }
   ],
   "source": [
    "double purity = Nces / Ns * 100"
   ]
  },
  {
   "cell_type": "markdown",
   "id": "1e545649",
   "metadata": {},
   "source": [
    "## Rank 1 with 3  LE cube"
   ]
  },
  {
   "cell_type": "code",
   "execution_count": 16,
   "id": "325d45da",
   "metadata": {},
   "outputs": [
    {
     "name": "stdout",
     "output_type": "stream",
     "text": [
      "(double) 11.942725\n"
     ]
    }
   ],
   "source": [
    "ROOT::RDF::RNode dfr4 = df.Filter(\"EpvtRankedCube[0.1 < EpvtRankedCube && EpvtRankedCube < 0.5].size() == 3\");\n",
    "double Ns = dfr4.Count().GetValue();\n",
    "dfr4 = dfr4.Define(\"MEvolid\", \"volidRankedCube[0.1 < EpvtRankedCube && EpvtRankedCube < 0.5][0]\");\n",
    "dfr4 = dfr4.Filter(\"ROOT::VecOps::Any(MEvolid == volid[E_quenched > 0.1] && (chainMaskT5[E_quenched > 0.1] == maskG_CHILD))\");\n",
    "double Nces = dfr4.Count().GetValue();\n",
    "double eff = Nces / Ncet * 100"
   ]
  },
  {
   "cell_type": "code",
   "execution_count": 17,
   "id": "9f7ddd44",
   "metadata": {},
   "outputs": [
    {
     "name": "stdout",
     "output_type": "stream",
     "text": [
      "(double) 19.897248\n"
     ]
    }
   ],
   "source": [
    "double purity = Nces / Ns * 100"
   ]
  },
  {
   "cell_type": "markdown",
   "id": "da1d6f09",
   "metadata": {},
   "source": [
    "## Rank 2 with 3 LE cube"
   ]
  },
  {
   "cell_type": "code",
   "execution_count": 18,
   "id": "df080b2c",
   "metadata": {},
   "outputs": [
    {
     "name": "stdout",
     "output_type": "stream",
     "text": [
      "(double) 13.245524\n"
     ]
    }
   ],
   "source": [
    "ROOT::RDF::RNode dfr5 = df.Filter(\"EpvtRankedCube[0.1 < EpvtRankedCube && EpvtRankedCube < 0.5].size() == 3\");\n",
    "double Ns = dfr5.Count().GetValue();\n",
    "dfr5 = dfr5.Define(\"MEvolid\", \"volidRankedCube[0.1 < EpvtRankedCube && EpvtRankedCube < 0.5][1]\");\n",
    "dfr5 = dfr5.Filter(\"ROOT::VecOps::Any(MEvolid == volid[E_quenched > 0.1] && (chainMaskT5[E_quenched > 0.1] == maskG_CHILD))\");\n",
    "double Nces = dfr5.Count().GetValue();\n",
    "double eff = Nces / Ncet * 100"
   ]
  },
  {
   "cell_type": "code",
   "execution_count": 19,
   "id": "aeaee121",
   "metadata": {},
   "outputs": [
    {
     "name": "stdout",
     "output_type": "stream",
     "text": [
      "(double) 22.067784\n"
     ]
    }
   ],
   "source": [
    "double purity = Nces / Ns * 100"
   ]
  },
  {
   "cell_type": "markdown",
   "id": "c58ca28f",
   "metadata": {},
   "source": [
    "## Rank 3 with 3 LE cube"
   ]
  },
  {
   "cell_type": "code",
   "execution_count": 20,
   "id": "a83bf8a2",
   "metadata": {},
   "outputs": [
    {
     "name": "stdout",
     "output_type": "stream",
     "text": [
      "(double) 12.241532\n"
     ]
    }
   ],
   "source": [
    "ROOT::RDF::RNode dfr6 = df.Filter(\"EpvtRankedCube[0.1 < EpvtRankedCube && EpvtRankedCube < 0.5].size() == 3\");\n",
    "double Ns = dfr6.Count().GetValue();\n",
    "dfr6 = dfr6.Define(\"MEvolid\", \"volidRankedCube[0.1 < EpvtRankedCube && EpvtRankedCube < 0.5][2]\");\n",
    "dfr6 = dfr6.Filter(\"ROOT::VecOps::Any(MEvolid == volid[E_quenched > 0.1] && (chainMaskT5[E_quenched > 0.1] == maskG_CHILD))\");\n",
    "double Nces = dfr6.Count().GetValue();\n",
    "double eff = Nces / Ncet * 100"
   ]
  },
  {
   "cell_type": "code",
   "execution_count": 21,
   "id": "bcfdcaa4",
   "metadata": {},
   "outputs": [
    {
     "name": "stdout",
     "output_type": "stream",
     "text": [
      "(double) 20.395077\n"
     ]
    }
   ],
   "source": [
    "double purity = Nces / Ns * 100"
   ]
  },
  {
   "cell_type": "markdown",
   "id": "92e4927d",
   "metadata": {},
   "source": [
    "## Rank 1 with 4 LE cube"
   ]
  },
  {
   "cell_type": "code",
   "execution_count": 22,
   "id": "ddeb90b7",
   "metadata": {},
   "outputs": [
    {
     "name": "stdout",
     "output_type": "stream",
     "text": [
      "(double) 6.7578228\n"
     ]
    }
   ],
   "source": [
    "ROOT::RDF::RNode dfr7 = df.Filter(\"EpvtRankedCube[0.1 < EpvtRankedCube && EpvtRankedCube < 0.5].size() == 4\");\n",
    "double Ns = dfr7.Count().GetValue();\n",
    "dfr7 = dfr7.Define(\"MEvolid\", \"volidRankedCube[0.1 < EpvtRankedCube && EpvtRankedCube < 0.5][0]\");\n",
    "dfr7 = dfr7.Filter(\"ROOT::VecOps::Any(MEvolid == volid[E_quenched > 0.1] && (chainMaskT5[E_quenched > 0.1] == maskG_CHILD))\");\n",
    "double Nces = dfr7.Count().GetValue();\n",
    "double eff = Nces / Ncet * 100"
   ]
  },
  {
   "cell_type": "code",
   "execution_count": 23,
   "id": "6c87cc78",
   "metadata": {},
   "outputs": [
    {
     "name": "stdout",
     "output_type": "stream",
     "text": [
      "(double) 21.994865\n"
     ]
    }
   ],
   "source": [
    "double purity = Nces / Ns * 100"
   ]
  },
  {
   "cell_type": "markdown",
   "id": "867ec147",
   "metadata": {},
   "source": [
    "## Rank 2 with 4 LE cube"
   ]
  },
  {
   "cell_type": "code",
   "execution_count": 24,
   "id": "da7367de",
   "metadata": {},
   "outputs": [
    {
     "name": "stdout",
     "output_type": "stream",
     "text": [
      "(double) 7.1044391\n"
     ]
    }
   ],
   "source": [
    "ROOT::RDF::RNode dfr8 = df.Filter(\"EpvtRankedCube[0.1 < EpvtRankedCube && EpvtRankedCube < 0.5].size() == 4\");\n",
    "double Ns = dfr8.Count().GetValue();\n",
    "dfr8 = dfr8.Define(\"MEvolid\", \"volidRankedCube[0.1 < EpvtRankedCube && EpvtRankedCube < 0.5][1]\");\n",
    "dfr8 = dfr8.Filter(\"ROOT::VecOps::Any(MEvolid == volid[E_quenched > 0.1] && (chainMaskT5[E_quenched > 0.1] == maskG_CHILD))\");\n",
    "double Nces = dfr8.Count().GetValue();\n",
    "double eff = Nces / Ncet * 100"
   ]
  },
  {
   "cell_type": "code",
   "execution_count": 25,
   "id": "4f6067e0",
   "metadata": {},
   "outputs": [
    {
     "name": "stdout",
     "output_type": "stream",
     "text": [
      "(double) 23.123006\n"
     ]
    }
   ],
   "source": [
    "double purity = Nces / Ns * 100"
   ]
  },
  {
   "cell_type": "markdown",
   "id": "979e3fe8",
   "metadata": {},
   "source": [
    "## Rank 3 with 4 LE cube"
   ]
  },
  {
   "cell_type": "code",
   "execution_count": 26,
   "id": "5b4e4b26",
   "metadata": {},
   "outputs": [
    {
     "name": "stdout",
     "output_type": "stream",
     "text": [
      "(double) 7.1450769\n"
     ]
    }
   ],
   "source": [
    "ROOT::RDF::RNode dfr9 = df.Filter(\"EpvtRankedCube[0.1 < EpvtRankedCube && EpvtRankedCube < 0.5].size() == 4\");\n",
    "double Ns = dfr9.Count().GetValue();\n",
    "dfr9 = dfr9.Define(\"MEvolid\", \"volidRankedCube[0.1 < EpvtRankedCube && EpvtRankedCube < 0.5][2]\");\n",
    "dfr9 = dfr9.Filter(\"ROOT::VecOps::Any(MEvolid == volid[E_quenched > 0.1] && (chainMaskT5[E_quenched > 0.1] == maskG_CHILD))\");\n",
    "double Nces = dfr9.Count().GetValue();\n",
    "double eff = Nces / Ncet * 100"
   ]
  },
  {
   "cell_type": "code",
   "execution_count": 27,
   "id": "e2b9d590",
   "metadata": {},
   "outputs": [
    {
     "name": "stdout",
     "output_type": "stream",
     "text": [
      "(double) 23.255271\n"
     ]
    }
   ],
   "source": [
    "double purity = Nces / Ns * 100"
   ]
  },
  {
   "cell_type": "markdown",
   "id": "d8195752",
   "metadata": {},
   "source": [
    "## Rank 4 with 4 LE cube"
   ]
  },
  {
   "cell_type": "code",
   "execution_count": 28,
   "id": "66f77319",
   "metadata": {},
   "outputs": [
    {
     "name": "stdout",
     "output_type": "stream",
     "text": [
      "(double) 6.2032367\n"
     ]
    }
   ],
   "source": [
    "ROOT::RDF::RNode dfr10 = df.Filter(\"EpvtRankedCube[0.1 < EpvtRankedCube && EpvtRankedCube < 0.5].size() == 4\");\n",
    "double Ns = dfr10.Count().GetValue();\n",
    "dfr10 = dfr10.Define(\"MEvolid\", \"volidRankedCube[0.1 < EpvtRankedCube && EpvtRankedCube < 0.5][3]\");\n",
    "dfr10 = dfr10.Filter(\"ROOT::VecOps::Any(MEvolid == volid[E_quenched > 0.1] && (chainMaskT5[E_quenched > 0.1] == maskG_CHILD))\");\n",
    "double Nces = dfr10.Count().GetValue();\n",
    "double eff = Nces / Ncet * 100"
   ]
  },
  {
   "cell_type": "code",
   "execution_count": 29,
   "id": "e7d66736",
   "metadata": {},
   "outputs": [
    {
     "name": "stdout",
     "output_type": "stream",
     "text": [
      "(double) 20.189839\n"
     ]
    }
   ],
   "source": [
    "double purity = Nces / Ns * 100"
   ]
  }
 ],
 "metadata": {
  "kernelspec": {
   "display_name": "ROOT C++",
   "language": "c++",
   "name": "root"
  },
  "language_info": {
   "codemirror_mode": "text/x-c++src",
   "file_extension": ".C",
   "mimetype": " text/x-c++src",
   "name": "c++"
  }
 },
 "nbformat": 4,
 "nbformat_minor": 5
}
